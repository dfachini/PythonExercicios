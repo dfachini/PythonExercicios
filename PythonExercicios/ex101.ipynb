{
 "cells": [
  {
   "cell_type": "code",
   "execution_count": 45,
   "id": "c77f7421",
   "metadata": {},
   "outputs": [
    {
     "name": "stdout",
     "output_type": "stream",
     "text": [
      "Digite ano de nascimento [YYYY]: 2006\n",
      "Com 16 anos: VOTO OPCIONAL.\n",
      "Com 16 anos: VOTO OBRIGATÓRIO.\n"
     ]
    }
   ],
   "source": [
    "from datetime import date\n",
    "\n",
    "def voto(ano):\n",
    "    today = date.today().year\n",
    "    if (today - ano) > 15:\n",
    "        if (today - ano) > 65:\n",
    "            print(f'Com {today - ano} anos: VOTO OPCIONAL.')\n",
    "        if (today - ano) == 16:\n",
    "            print(f'Com {today - ano} anos: VOTO OPCIONAL.')\n",
    "        if (today - ano) == 17:\n",
    "            print(f'Com {today - ano} anos: VOTO OPCIONAL.')\n",
    "        else:\n",
    "            print(f'Com {today - ano} anos: VOTO OBRIGATÓRIO.')\n",
    "    else:\n",
    "        print(f'Com {today - ano} anos: NÃO VOTA.')\n",
    "        \n",
    "        \n",
    "# Programa Principal\n",
    "anoNasc = int(input('Digite ano de nascimento [YYYY]: '))\n",
    "voto(anoNasc)"
   ]
  },
  {
   "cell_type": "markdown",
   "id": "8a9d0508",
   "metadata": {},
   "source": [
    "# Resolução do Professor"
   ]
  },
  {
   "cell_type": "code",
   "execution_count": 52,
   "id": "6f3f7667",
   "metadata": {},
   "outputs": [
    {
     "name": "stdout",
     "output_type": "stream",
     "text": [
      "Com 18 anos: VOTO OBRIGATÓRIO.\n"
     ]
    }
   ],
   "source": [
    "def voto(ano):\n",
    "    from datetime import date\n",
    "    anoAtual = date.today().year\n",
    "    idade = anoAtual - ano\n",
    "    if idade < 16:\n",
    "        return f'Com {idade} anos: NÃO VOTA.'\n",
    "    elif 16 <= idade < 18 or idade > 65:\n",
    "        return f'Com {idade} anos: OPCIONAL.'\n",
    "    else:\n",
    "        return f'Com {idade} anos: VOTO OBRIGATÓRIO.'\n",
    "    \n",
    "\n",
    "print(voto(2004))"
   ]
  }
 ],
 "metadata": {
  "kernelspec": {
   "display_name": "Python 3 (ipykernel)",
   "language": "python",
   "name": "python3"
  },
  "language_info": {
   "codemirror_mode": {
    "name": "ipython",
    "version": 3
   },
   "file_extension": ".py",
   "mimetype": "text/x-python",
   "name": "python",
   "nbconvert_exporter": "python",
   "pygments_lexer": "ipython3",
   "version": "3.8.9"
  }
 },
 "nbformat": 4,
 "nbformat_minor": 5
}
