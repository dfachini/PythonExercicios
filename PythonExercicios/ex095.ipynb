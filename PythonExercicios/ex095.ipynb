{
 "cells": [
  {
   "cell_type": "code",
   "execution_count": 1,
   "id": "ea53abec",
   "metadata": {},
   "outputs": [
    {
     "name": "stdout",
     "output_type": "stream",
     "text": [
      "Nome do Jogador: David\n",
      "Quantas partidas David jogou? 2\n",
      "Quantos gols na partida 0? 1\n",
      "Quantos gols na partida 1? 2\n",
      "-=-=-=-=-=-=-=-=-=-=-=-=-=-=-=-=-=-=-=-=-=-=-=-=-=-=-=-=-=-=\n",
      "{'nome': 'David', 'gols': [1, 2], 'total': 3}\n",
      "-=-=-=-=-=-=-=-=-=-=-=-=-=-=-=-=-=-=-=-=-=-=-=-=-=-=-=-=-=-=\n",
      "O campo nome tem o valor David\n",
      "O campo gols tem o valor [1, 2]\n",
      "O campo total tem o valor 3\n",
      "-=-=-=-=-=-=-=-=-=-=-=-=-=-=-=-=-=-=-=-=-=-=-=-=-=-=-=-=-=-=\n",
      "O jogador David jogou 2 partidas.\n",
      "    => Na partida 0, fez 1 gols.\n",
      "    => Na partida 1, fez 2 gols.\n",
      "Foi um total de 3 gols.\n"
     ]
    }
   ],
   "source": [
    "# jogador = dict()\n",
    "# partidas = list()\n",
    "# jogador['nome'] = str(input('Nome do Jogador: '))\n",
    "# tot = int(input(f'Quantas partidas {jogador[\"nome\"]} jogou? '))\n",
    "# for c in range(0, tot):\n",
    "#     partidas.append(int(input(f'Quantos gols na partida {c}? ')))\n",
    "# jogador['gols'] = partidas[:]\n",
    "# jogador['total'] = sum(partidas)\n",
    "# print('-='*30)\n",
    "# print(jogador)\n",
    "# print('-='*30)\n",
    "# for k, v in jogador.items():\n",
    "#     print(f'O campo {k} tem o valor {v}')\n",
    "# print('-=' *30)\n",
    "# print(f'O jogador {jogador[\"nome\"]} jogou {len(jogador[\"gols\"])} partidas.')\n",
    "# for i, v in enumerate(jogador['gols']):\n",
    "#     print(f'    => Na partida {i}, fez {v} gols.')\n",
    "# print(f'Foi um total de {jogador[\"total\"]} gols.')"
   ]
  },
  {
   "cell_type": "code",
   "execution_count": 7,
   "id": "c9c05db2",
   "metadata": {},
   "outputs": [
    {
     "name": "stdout",
     "output_type": "stream",
     "text": [
      "Nome do Jogador: A\n",
      "Quantas partidas A jogou? 1\n",
      "Quantos gols na partida 0? 0\n",
      "Quer continuar? [S/N] S\n",
      "------------------------------\n",
      "Nome do Jogador: B\n",
      "Quantas partidas B jogou? 1\n",
      "Quantos gols na partida 0? 0\n",
      "Quer continuar? [S/N] N\n",
      "-=-=-=-=-=-=-=-=-=-=-=-=-=-=-=-=-=-=-=-=-=-=-=-=-=-=-=-=-=-=-=-=-=-=-=-=-=-=-=-=-=-=-=-=-=-=-=-=-=-=\n"
     ]
    }
   ],
   "source": [
    "jogador = dict()\n",
    "partidas = list()\n",
    "while True:\n",
    "    jogador.clear()\n",
    "    jogador['nome'] = str(input('Nome do Jogador: '))\n",
    "    tot = int(input(f'Quantas partidas {jogador[\"nome\"]} jogou? '))\n",
    "    for c in range(0, tot):\n",
    "        partidas.append(int(input(f'Quantos gols na partida {c}? ')))\n",
    "    while True:\n",
    "        resp = str(input('Quer continuar? [S/N] ')).upper()[0]\n",
    "        if resp in 'SN':\n",
    "            break\n",
    "        print('ERRO! Responda apenas S ou N.')\n",
    "    if resp == 'N':\n",
    "        break\n",
    "    print('-'*30)\n",
    "print('-='*50)\n",
    "print(f'Cod  nome       gols       total')\n",
    "print('-'*50)\n",
    "\n",
    "#     jogador['gols'] = partidas[:]\n",
    "#     jogador['total'] = sum(partidas)\n",
    "#     print('-='*30)\n",
    "#     print(jogador)\n",
    "#     print('-='*30)\n",
    "#     for k, v in jogador.items():\n",
    "#         print(f'O campo {k} tem o valor {v}')\n",
    "#     print('-=' *30)\n",
    "#     print(f'O jogador {jogador[\"nome\"]} jogou {len(jogador[\"gols\"])} partidas.')\n",
    "#     for i, v in enumerate(jogador['gols']):\n",
    "#         print(f'    => Na partida {i}, fez {v} gols.')\n",
    "#     print(f'Foi um total de {jogador[\"total\"]} gols.')"
   ]
  },
  {
   "cell_type": "code",
   "execution_count": 15,
   "id": "635b2ea8",
   "metadata": {},
   "outputs": [
    {
     "name": "stdout",
     "output_type": "stream",
     "text": [
      "Cod  nome       gols       total\n",
      "--------------------------------------------------\n"
     ]
    },
    {
     "ename": "TypeError",
     "evalue": "string indices must be integers",
     "output_type": "error",
     "traceback": [
      "\u001b[0;31m---------------------------------------------------------------------------\u001b[0m",
      "\u001b[0;31mTypeError\u001b[0m                                 Traceback (most recent call last)",
      "Input \u001b[0;32mIn [15]\u001b[0m, in \u001b[0;36m<cell line: 6>\u001b[0;34m()\u001b[0m\n\u001b[1;32m      5\u001b[0m contador \u001b[38;5;241m=\u001b[39m \u001b[38;5;241m0\u001b[39m\n\u001b[1;32m      6\u001b[0m \u001b[38;5;28;01mfor\u001b[39;00m i \u001b[38;5;129;01min\u001b[39;00m jogador:\n\u001b[0;32m----> 7\u001b[0m     \u001b[38;5;28mprint\u001b[39m(\u001b[38;5;124mf\u001b[39m\u001b[38;5;124m'\u001b[39m\u001b[38;5;132;01m{\u001b[39;00mcontador\u001b[38;5;132;01m}\u001b[39;00m\u001b[38;5;124m    \u001b[39m\u001b[38;5;132;01m{\u001b[39;00mi\u001b[38;5;132;01m}\u001b[39;00m\u001b[38;5;124m     \u001b[39m\u001b[38;5;132;01m{\u001b[39;00mi[\u001b[38;5;124m\"\u001b[39m\u001b[38;5;124mgols\u001b[39m\u001b[38;5;124m\"\u001b[39m]\u001b[38;5;132;01m}\u001b[39;00m\u001b[38;5;124m'\u001b[39m)\n",
      "\u001b[0;31mTypeError\u001b[0m: string indices must be integers"
     ]
    }
   ],
   "source": [
    "jogador['gols'] = partidas[:]\n",
    "jogador['total'] = sum(partidas)\n",
    "print(f'Cod  nome       gols       total')\n",
    "print('-'*50)\n",
    "contador = 0\n",
    "for i in jogador:\n",
    "    print(f'{contador}    {i}     {i[\"gols\"]}')"
   ]
  },
  {
   "cell_type": "markdown",
   "id": "d49bfa57",
   "metadata": {},
   "source": [
    "# Resolução do Professor"
   ]
  },
  {
   "cell_type": "code",
   "execution_count": 9,
   "id": "b9d68fc3",
   "metadata": {},
   "outputs": [
    {
     "name": "stdout",
     "output_type": "stream",
     "text": [
      "Nome do Jogador: David\n",
      "Quantas partidas David jogou? 3\n",
      "Quantos gols na partida 1? 1\n",
      "Quantos gols na partida 2? 0\n",
      "Quantos gols na partida 3? 2\n",
      "Quer continuar? [S/N] N\n",
      "----------------------------------------\n",
      "cod nome           gols           total          \n",
      "----------------------------------------\n",
      "  0 David          [1, 0, 2]      3              \n",
      "----------------------------------------\n",
      "Mostrar dados de qual jogador? (999 para parar)0\n",
      " -- LEVANTAMENTO DO JOGADOR David:\n",
      "   No jogo 1 fez 1 gols.\n",
      "   No jogo 2 fez 0 gols.\n",
      "   No jogo 3 fez 2 gols.\n",
      "----------------------------------------\n",
      "Mostrar dados de qual jogador? (999 para parar)999\n",
      "<< VOLTE SEMPRE >>\n"
     ]
    }
   ],
   "source": [
    "time = list()\n",
    "jogador = dict()\n",
    "partidas = list() # não declarou junto pelo motivo --> partidas = time = list() para não relacionar uma lista na outra \n",
    "while True:\n",
    "    jogador.clear() #apagar os dados do jogador a cada laço executado\n",
    "    jogador['nome'] = str(input('Nome do Jogador: '))\n",
    "    tot = int(input(f'Quantas partidas {jogador[\"nome\"]} jogou? '))\n",
    "    partidas.clear()  # Esvaziar partida antes de ler a partida seguinte\n",
    "    for c in range(0, tot):\n",
    "        partidas.append(int(input(f'Quantos gols na partida {c+1}? ')))\n",
    "    jogador['gols'] = partidas[:]\n",
    "    jogador['total'] = sum(partidas)\n",
    "    time.append(jogador.copy())   #depois que ler tudo joga dentro da lista time. Obs: Usa lista pq dicionario nao aceita fatiamento.\n",
    "    while True:\n",
    "        resp = str(input('Quer continuar? [S/N] ')).upper()[0]\n",
    "        if resp in 'SN':\n",
    "            break\n",
    "        print('ERRO! Responda apenas S ou N.')\n",
    "    if resp == 'N':\n",
    "        break\n",
    "print('-'*40)\n",
    "print('cod ', end='')             # inicio do código para fazer o cabecalho\n",
    "for i in jogador.keys():\n",
    "    print(f'{i:<15}', end='')\n",
    "print()\n",
    "print('-'*40)                    # final do código para fazer o cabecalho\n",
    "for k, v in enumerate(time):\n",
    "    print(f'{k:>3} ', end='')\n",
    "    for d in v.values():\n",
    "        print(f'{str(d):<15}', end='')\n",
    "    print()\n",
    "print('-'*40)\n",
    "while True:\n",
    "    busca = int(input('Mostrar dados de qual jogador? (999 para parar)'))\n",
    "    if busca == 999:\n",
    "        break\n",
    "    if busca >= len(time):\n",
    "        print(f'ERRO! Não existe jogador com código {busca}!')\n",
    "    else:\n",
    "        print(f' -- LEVANTAMENTO DO JOGADOR {time[busca][\"nome\"]}:')\n",
    "        for i, g in enumerate(time[busca]['gols']):   # i = indice , g = gols \n",
    "            print(f'   No jogo {i+1} fez {g} gols.')\n",
    "    print('-'*40)\n",
    "print('<< VOLTE SEMPRE >>')\n",
    "    \n",
    "    "
   ]
  }
 ],
 "metadata": {
  "kernelspec": {
   "display_name": "Python 3 (ipykernel)",
   "language": "python",
   "name": "python3"
  },
  "language_info": {
   "codemirror_mode": {
    "name": "ipython",
    "version": 3
   },
   "file_extension": ".py",
   "mimetype": "text/x-python",
   "name": "python",
   "nbconvert_exporter": "python",
   "pygments_lexer": "ipython3",
   "version": "3.8.9"
  }
 },
 "nbformat": 4,
 "nbformat_minor": 5
}
