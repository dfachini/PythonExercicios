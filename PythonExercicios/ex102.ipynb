{
 "cells": [
  {
   "cell_type": "code",
   "execution_count": 17,
   "id": "557c7d67",
   "metadata": {},
   "outputs": [],
   "source": [
    "def fatorial(n, show):\n",
    "    \"\"\"\n",
    "    -> Calcula o Fatorial de um número.\n",
    "    :param n: O número a ser calculado.\n",
    "    :param show: (opcional) Mostrar ou não a conta.\n",
    "    :return: O valor do Fatorial de um número n.\n",
    "    \"\"\"\n",
    "    if show == True:\n",
    "        lista = []\n",
    "        mult = 1\n",
    "        for i in range(n, 0, -1):\n",
    "#             for c in range(num, 0, -1):\n",
    "            lista.append(i)\n",
    "            mult *= i\n",
    "        return f'{lista} = {mult}'\n",
    "    else:\n",
    "        mult = 1\n",
    "        for i in range(n, 0, -1):\n",
    "#             lista.append(i)\n",
    "            mult *= i\n",
    "        return f'{mult}'"
   ]
  },
  {
   "cell_type": "code",
   "execution_count": 18,
   "id": "c7324356",
   "metadata": {},
   "outputs": [
    {
     "name": "stdout",
     "output_type": "stream",
     "text": [
      "120\n",
      "[5, 4, 3, 2, 1] = 120\n"
     ]
    }
   ],
   "source": [
    "print(fatorial(5, show=False))\n",
    "print(fatorial(5, show=True))\n",
    "# print(fatorial(5))\n",
    "\n"
   ]
  },
  {
   "cell_type": "code",
   "execution_count": 2,
   "id": "c19d7ec6",
   "metadata": {},
   "outputs": [
    {
     "name": "stdout",
     "output_type": "stream",
     "text": [
      "Help on function fatorial in module __main__:\n",
      "\n",
      "fatorial(n, show)\n",
      "    -> Calcula o Fatorial de um número.\n",
      "    :param n: O número a ser calculado.\n",
      "    :param show: (opcional) Mostrar ou não a conta.\n",
      "    :return: O valor do Fatorial de um número n.\n",
      "\n"
     ]
    }
   ],
   "source": [
    "help(fatorial)"
   ]
  },
  {
   "cell_type": "markdown",
   "id": "144e731c",
   "metadata": {},
   "source": [
    "# Resolução do Professor"
   ]
  },
  {
   "cell_type": "code",
   "execution_count": 32,
   "id": "c1c9f0f7",
   "metadata": {},
   "outputs": [
    {
     "name": "stdout",
     "output_type": "stream",
     "text": [
      "5 x 4 x 3 x 2 x 1 = 120\n",
      "Help on function fatorial in module __main__:\n",
      "\n",
      "fatorial(n, show=False)\n",
      "    -> Calcula o Fatorial de um número.\n",
      "    :param n: O número a ser calculado.\n",
      "    :param show: (opcional) Mostrar ou não a conta.\n",
      "    :return: O valor do Fatorial de um número n.\n",
      "\n"
     ]
    }
   ],
   "source": [
    "def fatorial(n, show=False):\n",
    "    \"\"\"\n",
    "    -> Calcula o Fatorial de um número.\n",
    "    :param n: O número a ser calculado.\n",
    "    :param show: (opcional) Mostrar ou não a conta.\n",
    "    :return: O valor do Fatorial de um número n.\n",
    "    \"\"\"\n",
    "    f = 1\n",
    "    for c in range(n, 0, -1):\n",
    "        if show:\n",
    "            print(c, end = '')\n",
    "            if c > 1:\n",
    "                print(' x ', end='')\n",
    "            else:\n",
    "                print(' = ', end='')\n",
    "        f *= c\n",
    "    return f\n",
    "\n",
    "\n",
    "# Programa principal\n",
    "print(fatorial(5, show=True))\n",
    "help(fatorial)"
   ]
  }
 ],
 "metadata": {
  "kernelspec": {
   "display_name": "Python 3 (ipykernel)",
   "language": "python",
   "name": "python3"
  },
  "language_info": {
   "codemirror_mode": {
    "name": "ipython",
    "version": 3
   },
   "file_extension": ".py",
   "mimetype": "text/x-python",
   "name": "python",
   "nbconvert_exporter": "python",
   "pygments_lexer": "ipython3",
   "version": "3.8.9"
  }
 },
 "nbformat": 4,
 "nbformat_minor": 5
}
