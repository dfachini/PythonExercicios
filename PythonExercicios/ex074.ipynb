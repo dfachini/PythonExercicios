{
 "cells": [
  {
   "cell_type": "code",
   "execution_count": 1,
   "id": "362763cf",
   "metadata": {},
   "outputs": [
    {
     "name": "stdout",
     "output_type": "stream",
     "text": [
      "(60, 32, 59, 80, 1)\n",
      "[1, 32, 59, 60, 80]\n",
      "O maior valor é: 80\n",
      "O menor valor é: 1\n"
     ]
    }
   ],
   "source": [
    "from random import randint\n",
    "\n",
    "tuplaCincoAleatorio = (randint(0, 99), randint(0, 99), randint(0, 99), randint(0, 99), randint(0, 99))\n",
    "tuplaSort = sorted(tuplaCincoAleatorio)\n",
    "print(tuplaCincoAleatorio)\n",
    "print(tuplaSort)\n",
    "print(f\"O maior valor é: {tuplaSort[4]}\")\n",
    "print(f\"O menor valor é: {tuplaSort[0]}\")"
   ]
  },
  {
   "cell_type": "code",
   "execution_count": 16,
   "id": "fc3958f7",
   "metadata": {},
   "outputs": [
    {
     "name": "stdout",
     "output_type": "stream",
     "text": [
      "Os valores sorteados foram: 7 6 8 2 0 \n",
      "O maior valor sorteado foi 8\n",
      "O menor valor sorteado foi 0\n"
     ]
    }
   ],
   "source": [
    "#Resolucao do professor\n",
    "\n",
    "from random import randint \n",
    "\n",
    "numeros = (randint(0, 10), randint(0, 10), randint(0, 10), randint(0, 10), randint(0, 10))\n",
    "print('Os valores sorteados foram: ', end='')\n",
    "for n in numeros:\n",
    "    print(f'{n} ', end='')\n",
    "print(f'\\nO maior valor sorteado foi {max(numeros)}')\n",
    "print(f'O menor valor sorteado foi {min(numeros)}')"
   ]
  },
  {
   "cell_type": "code",
   "execution_count": null,
   "id": "f3bdfd2a",
   "metadata": {},
   "outputs": [],
   "source": []
  }
 ],
 "metadata": {
  "kernelspec": {
   "display_name": "Python 3 (ipykernel)",
   "language": "python",
   "name": "python3"
  },
  "language_info": {
   "codemirror_mode": {
    "name": "ipython",
    "version": 3
   },
   "file_extension": ".py",
   "mimetype": "text/x-python",
   "name": "python",
   "nbconvert_exporter": "python",
   "pygments_lexer": "ipython3",
   "version": "3.8.9"
  }
 },
 "nbformat": 4,
 "nbformat_minor": 5
}
