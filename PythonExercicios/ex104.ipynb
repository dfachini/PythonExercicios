{
 "cells": [
  {
   "cell_type": "code",
   "execution_count": null,
   "id": "228465c1",
   "metadata": {},
   "outputs": [],
   "source": [
    "def leiaInt(num = int(input(' Digite um numero: '))):\n",
    "#     num = int(input('Digite um numero: '))\n",
    "    while num.is_integer == False:\n",
    "        return f'Erro!'\n",
    "\n",
    "\n",
    "# Programa Principal\n",
    "# n = leiaInt('Digite um n: ')\n",
    "print(leiaInt())"
   ]
  },
  {
   "cell_type": "code",
   "execution_count": null,
   "id": "3ba3e526",
   "metadata": {},
   "outputs": [],
   "source": [
    "def leiaInt(num = str(input(' Digite um numero: '))):\n",
    "    if num.isnumeric():\n",
    "        num = int(num)\n",
    "    else:\n",
    "        while type(num) != int:\n",
    "            print(f'Erro! Digite apenas número!')\n",
    "            num = int(input(' Digite um numero: '))\n",
    "    print(f'Teste!')\n",
    "#     return num\n",
    "    \n",
    "leiaInt()"
   ]
  },
  {
   "cell_type": "code",
   "execution_count": null,
   "id": "bcdcaf4d",
   "metadata": {},
   "outputs": [],
   "source": [
    "num = 1\n",
    "\n",
    "type(num)"
   ]
  },
  {
   "cell_type": "markdown",
   "id": "facea9ee",
   "metadata": {},
   "source": [
    "# Resolução do Professor"
   ]
  },
  {
   "cell_type": "code",
   "execution_count": 46,
   "id": "3bad8fb3",
   "metadata": {},
   "outputs": [
    {
     "name": "stdout",
     "output_type": "stream",
     "text": [
      "Digite um número: m\n",
      "\u001b[0;31mERRO! Digite um número inteiro válido.\u001b[m\n",
      "Digite um número:    \n",
      "\u001b[0;31mERRO! Digite um número inteiro válido.\u001b[m\n",
      "Digite um número:   3\n",
      "\u001b[0;31mERRO! Digite um número inteiro válido.\u001b[m\n",
      "Digite um número: 1\n",
      "Você acabou de digitar o número 1\n"
     ]
    }
   ],
   "source": [
    "def leiaInt(msg):   # leiaInt vai receber uma mensagem que é justamente a mensagem do Programa Principal\n",
    "    ok = False\n",
    "    valor = 0\n",
    "    while True:\n",
    "        n = str(input(msg))\n",
    "        if n.isnumeric():\n",
    "            valor = int(n)\n",
    "            ok = True\n",
    "        else:   # Se não for um número ou se estiver vazio/nulo\n",
    "            print('\\033[0;31mERRO! Digite um número inteiro válido.\\033[m')\n",
    "        if ok:         # Se está tudo ok ele da um break.\n",
    "            break\n",
    "    return valor\n",
    "\n",
    "\n",
    "# Programa Principal\n",
    "n = leiaInt('Digite um número: ')\n",
    "print(f'Você acabou de digitar o número {n}')"
   ]
  },
  {
   "cell_type": "code",
   "execution_count": 52,
   "id": "f29c062c",
   "metadata": {},
   "outputs": [
    {
     "name": "stdout",
     "output_type": "stream",
     "text": [
      "Digite um numero: 2\n",
      " Voce digitou 2 é par\n"
     ]
    }
   ],
   "source": [
    "def leiaInt(a):\n",
    "    n1 = int(input(a))\n",
    "    if n1 % 2 == 0:\n",
    "        return f'{n1} é par'\n",
    "    else:\n",
    "        return f'{n1} é impar'\n",
    "    \n",
    "n = leiaInt('Digite um numero: ')\n",
    "print(f' Voce digitou {n}')"
   ]
  }
 ],
 "metadata": {
  "kernelspec": {
   "display_name": "Python 3 (ipykernel)",
   "language": "python",
   "name": "python3"
  },
  "language_info": {
   "codemirror_mode": {
    "name": "ipython",
    "version": 3
   },
   "file_extension": ".py",
   "mimetype": "text/x-python",
   "name": "python",
   "nbconvert_exporter": "python",
   "pygments_lexer": "ipython3",
   "version": "3.8.9"
  }
 },
 "nbformat": 4,
 "nbformat_minor": 5
}
