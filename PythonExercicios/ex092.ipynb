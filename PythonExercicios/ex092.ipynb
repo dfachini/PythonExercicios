{
 "cells": [
  {
   "cell_type": "code",
   "execution_count": 50,
   "id": "e0f74831",
   "metadata": {},
   "outputs": [],
   "source": [
    "from datetime import date"
   ]
  },
  {
   "cell_type": "code",
   "execution_count": 51,
   "id": "514373a3",
   "metadata": {},
   "outputs": [
    {
     "name": "stdout",
     "output_type": "stream",
     "text": [
      "Nome: David\n"
     ]
    }
   ],
   "source": [
    "dic = {'nome': str(input('Nome: '))}\n",
    "#        'idade': int(input('Ano de Nascimento: '))}"
   ]
  },
  {
   "cell_type": "code",
   "execution_count": 52,
   "id": "2df73954",
   "metadata": {},
   "outputs": [
    {
     "name": "stdout",
     "output_type": "stream",
     "text": [
      "Ano de Nascimento YYYY: 1987\n"
     ]
    }
   ],
   "source": [
    "nasc = int(input('Ano de Nascimento YYYY: '))"
   ]
  },
  {
   "cell_type": "code",
   "execution_count": 53,
   "id": "8bdfd31d",
   "metadata": {},
   "outputs": [],
   "source": [
    "dic['idade'] = date.today().year - nasc"
   ]
  },
  {
   "cell_type": "code",
   "execution_count": 54,
   "id": "f29aa6f2",
   "metadata": {},
   "outputs": [
    {
     "name": "stdout",
     "output_type": "stream",
     "text": [
      "Carteira de Trabalho(0 não tem: 1234\n"
     ]
    }
   ],
   "source": [
    "dic['ctps'] = int(input('Carteira de Trabalho(0 não tem): '))\n",
    "if ctps <= 0 :\n",
    "    print('Não tem!')\n",
    "# elif cart "
   ]
  },
  {
   "cell_type": "code",
   "execution_count": 55,
   "id": "c63b1ea5",
   "metadata": {},
   "outputs": [
    {
     "name": "stdout",
     "output_type": "stream",
     "text": [
      "{'nome': 'David', 'idade': 35, 'ctps': 1234}\n"
     ]
    }
   ],
   "source": [
    "print(dic)"
   ]
  },
  {
   "cell_type": "code",
   "execution_count": 24,
   "id": "944bff7d",
   "metadata": {},
   "outputs": [
    {
     "name": "stdout",
     "output_type": "stream",
     "text": [
      "2022\n"
     ]
    }
   ],
   "source": [
    "print(date.today().year)"
   ]
  },
  {
   "cell_type": "code",
   "execution_count": 56,
   "id": "d2ced00b",
   "metadata": {},
   "outputs": [
    {
     "name": "stdout",
     "output_type": "stream",
     "text": [
      "Qual o ano de contratação: 2009\n"
     ]
    }
   ],
   "source": [
    "# Qual o ano de contratação ?\n",
    "if cart > 0:\n",
    "    dic['contratacao'] = int(input('Qual o ano de contratação: '))"
   ]
  },
  {
   "cell_type": "code",
   "execution_count": 57,
   "id": "7a9592ab",
   "metadata": {},
   "outputs": [
    {
     "name": "stdout",
     "output_type": "stream",
     "text": [
      "Digite o salário R$: 10000\n"
     ]
    }
   ],
   "source": [
    "# Qual o salário ?\n",
    "dic['salario'] = float(input('Digite o salário R$: '))"
   ]
  },
  {
   "cell_type": "code",
   "execution_count": 85,
   "id": "e6e0d2be",
   "metadata": {},
   "outputs": [
    {
     "name": "stdout",
     "output_type": "stream",
     "text": [
      "Aposentadoria tem o valor: 57\n"
     ]
    }
   ],
   "source": [
    "#Quanto tempo para aposentar ?\n",
    "anocorrente = date.today().year\n",
    "print(f'Aposentadoria tem o valor: {(35 - (anocorrente - contratacao)) + dic[\"idade\"]}')\n",
    "dic['aposentadoria'] = (35 - (anocorrente - contratacao) + dic[\"idade\"])"
   ]
  },
  {
   "cell_type": "code",
   "execution_count": 86,
   "id": "6983aeac",
   "metadata": {},
   "outputs": [
    {
     "name": "stdout",
     "output_type": "stream",
     "text": [
      "{'nome': 'David', 'idade': 35, 'ctps': 1234, 'contratacao': 2009, 'salario': 10000.0, 'aposentadoria': 57}\n"
     ]
    }
   ],
   "source": [
    "print(dic)"
   ]
  },
  {
   "cell_type": "code",
   "execution_count": 87,
   "id": "28238acc",
   "metadata": {},
   "outputs": [
    {
     "name": "stdout",
     "output_type": "stream",
     "text": [
      "nome tem o valor David\n",
      "idade tem o valor 35\n",
      "ctps tem o valor 1234\n",
      "contratacao tem o valor 2009\n",
      "salario tem o valor 10000.0\n",
      "aposentadoria tem o valor 57\n"
     ]
    }
   ],
   "source": [
    "for key, value in dic.items() :\n",
    "    print (f'{key} tem o valor {value}')"
   ]
  },
  {
   "cell_type": "code",
   "execution_count": 89,
   "id": "8858ff5e",
   "metadata": {},
   "outputs": [
    {
     "name": "stdout",
     "output_type": "stream",
     "text": [
      "Nome: David\n",
      "Ano de Nascimento YYYY: 1987\n",
      "Carteira de Trabalho(0 não tem): 0\n",
      "nome tem o valor David\n",
      "idade tem o valor 35\n",
      "ctps tem o valor 0\n"
     ]
    }
   ],
   "source": [
    "dic = {'nome': str(input('Nome: '))}\n",
    "nasc = int(input('Ano de Nascimento YYYY: '))\n",
    "dic['idade'] = date.today().year - nasc\n",
    "dic['ctps'] = int(input('Carteira de Trabalho(0 não tem): '))\n",
    "if dic['ctps'] <= 0 :\n",
    "    for key, value in dic.items() :\n",
    "        print (f'{key} tem o valor {value}')\n",
    "else:\n",
    "    dic['salario'] = float(input('Digite o salário R$: '))\n",
    "    anocorrente = date.today().year\n",
    "    dic['aposentadoria'] = (35 - (anocorrente - contratacao) + dic[\"idade\"])\n",
    "    for key, value in dic.items() :\n",
    "        print (f'{key} tem o valor {value}')"
   ]
  }
 ],
 "metadata": {
  "kernelspec": {
   "display_name": "Python 3 (ipykernel)",
   "language": "python",
   "name": "python3"
  },
  "language_info": {
   "codemirror_mode": {
    "name": "ipython",
    "version": 3
   },
   "file_extension": ".py",
   "mimetype": "text/x-python",
   "name": "python",
   "nbconvert_exporter": "python",
   "pygments_lexer": "ipython3",
   "version": "3.8.9"
  }
 },
 "nbformat": 4,
 "nbformat_minor": 5
}
