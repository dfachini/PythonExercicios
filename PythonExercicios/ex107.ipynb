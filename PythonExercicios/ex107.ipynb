{
 "cells": [
  {
   "cell_type": "code",
   "execution_count": 2,
   "id": "97816182",
   "metadata": {},
   "outputs": [
    {
     "name": "stdout",
     "output_type": "stream",
     "text": [
      "Digite o preço: R$ 952.50\n",
      "A metade de 952.5 é 476.25\n",
      "O dobro de 952.5 é 1905.0\n",
      "Aumentando 10%, temos 1047.75\n",
      "Reduzindo 13%, temos 828.675\n"
     ]
    }
   ],
   "source": [
    "import moeda\n",
    "\n",
    "p = float(input('Digite o preço: R$ '))\n",
    "print(f'A metade de {p} é {moeda.metade(p)}')\n",
    "print(f'O dobro de {p} é {moeda.dobro(p)}')\n",
    "# print(f'Aumentando 10%, temos {moeda.aumentar(p)}')\n",
    "print(f'Aumentando 10%, temos {moeda.aumentar(p, 10)}')\n",
    "print(f'Reduzindo 13%, temos {moeda.diminuir(p, 13)}')"
   ]
  },
  {
   "cell_type": "markdown",
   "id": "0e646ffb",
   "metadata": {},
   "source": [
    "# Resolução do Professor"
   ]
  }
 ],
 "metadata": {
  "kernelspec": {
   "display_name": "Python 3 (ipykernel)",
   "language": "python",
   "name": "python3"
  },
  "language_info": {
   "codemirror_mode": {
    "name": "ipython",
    "version": 3
   },
   "file_extension": ".py",
   "mimetype": "text/x-python",
   "name": "python",
   "nbconvert_exporter": "python",
   "pygments_lexer": "ipython3",
   "version": "3.9.6"
  }
 },
 "nbformat": 4,
 "nbformat_minor": 5
}
