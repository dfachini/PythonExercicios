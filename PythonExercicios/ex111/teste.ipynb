{
 "cells": [
  {
   "cell_type": "code",
   "execution_count": 1,
   "id": "3a319c6e",
   "metadata": {},
   "outputs": [
    {
     "name": "stdout",
     "output_type": "stream",
     "text": [
      "Digite o preço: R$100\n",
      "-----------------------------------\n",
      "          RESUMO DO VALOR          \n",
      "-----------------------------------\n",
      "Preço analisado: \tR$100,00\n",
      "Dobro do preço: \tR$200,00\n",
      "Metade do preço: \tR$50,00\n",
      "Com 80% de aumento: \tR$180,00\n",
      "Com 35% de redução: \tR$65,00\n",
      "-----------------------------------\n"
     ]
    }
   ],
   "source": [
    "# import moeda\n",
    "from utilidadescev import moeda\n",
    "\n",
    "p = float(input('Digite o preço: R$'))\n",
    "moeda.resumo(p, 80, 35)"
   ]
  }
 ],
 "metadata": {
  "kernelspec": {
   "display_name": "Python 3 (ipykernel)",
   "language": "python",
   "name": "python3"
  },
  "language_info": {
   "codemirror_mode": {
    "name": "ipython",
    "version": 3
   },
   "file_extension": ".py",
   "mimetype": "text/x-python",
   "name": "python",
   "nbconvert_exporter": "python",
   "pygments_lexer": "ipython3",
   "version": "3.9.6"
  }
 },
 "nbformat": 4,
 "nbformat_minor": 5
}
