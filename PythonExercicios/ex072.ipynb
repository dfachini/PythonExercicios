{
 "cells": [
  {
   "cell_type": "code",
   "execution_count": null,
   "id": "07ffb97b",
   "metadata": {},
   "outputs": [],
   "source": [
    "while True:\n",
    "    numero = int(input('Digite um numero entre 0 e 20: '))\n",
    "    if numero < 0 or numero > 20:\n",
    "        numero = int(input('Digite um numero entre 0 e 20: '))\n",
    "    else:\n",
    "        numPorExtensos = ('zero', 'um', 'dois', 'tres', 'quatro', 'cinco', 'seis', 'sete', 'oito', 'nove', 'dez', 'onze', 'doze', 'treze', 'quatorze', 'quinze', 'dezesseis', 'dezessete', 'dezoito', 'dezenove', 'vinte')\n",
    "        print(f'Voce digitou {numPorExtensos[numero]}')"
   ]
  },
  {
   "cell_type": "code",
   "execution_count": 5,
   "id": "9a771c6e",
   "metadata": {},
   "outputs": [
    {
     "name": "stdout",
     "output_type": "stream",
     "text": [
      "Digite um número entre 0 e 20: 2\n",
      "Você digitou dois\n"
     ]
    }
   ],
   "source": [
    "# Resolucao Professor \n",
    "\n",
    "cont = ('zero', 'um', 'dois', 'tres', 'quatro', 'cinco', 'seis', 'sete', 'oito', 'nove', 'dez', 'onze', 'doze', 'treze', 'quatorze', 'quinze', 'dezesseis', 'dezessete', 'dezoito', 'dezenove', 'vinte')\n",
    "while True:\n",
    "    num = int(input('Digite um número entre 0 e 20: '))\n",
    "    if 0 <= num <= 20:\n",
    "        break\n",
    "    print('Tente novamente. ', end=\"\")\n",
    "print(f'Você digitou {cont[num]}')"
   ]
  },
  {
   "cell_type": "markdown",
   "id": "c784dca8",
   "metadata": {},
   "source": []
  }
 ],
 "metadata": {
  "kernelspec": {
   "display_name": "Python 3 (ipykernel)",
   "language": "python",
   "name": "python3"
  },
  "language_info": {
   "codemirror_mode": {
    "name": "ipython",
    "version": 3
   },
   "file_extension": ".py",
   "mimetype": "text/x-python",
   "name": "python",
   "nbconvert_exporter": "python",
   "pygments_lexer": "ipython3",
   "version": "3.8.9"
  }
 },
 "nbformat": 4,
 "nbformat_minor": 5
}
