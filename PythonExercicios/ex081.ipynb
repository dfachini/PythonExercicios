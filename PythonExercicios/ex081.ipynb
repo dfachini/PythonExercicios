{
 "cells": [
  {
   "cell_type": "markdown",
   "id": "6d8aa1b9",
   "metadata": {},
   "source": [
    "# Vários Números\n",
    "# Quantos numeros foram digitados\n",
    "# Lista ordem decrescente\n",
    "# 5 apareceu ?"
   ]
  },
  {
   "cell_type": "code",
   "execution_count": 119,
   "id": "f696bb15",
   "metadata": {},
   "outputs": [
    {
     "name": "stdout",
     "output_type": "stream",
     "text": [
      "Digite numero: 1\n",
      "Digite numero: 2\n",
      "Digite numero: 3\n",
      "Digite numero: 4\n",
      "Digite numero: 5\n",
      "Digite numero: 10\n",
      "Digite numero: 2\n",
      "Digite numero: 25\n",
      "Digite numero: 50\n",
      "Digite numero: -1\n",
      "Digitou -1\n",
      "==================================================\n",
      "Foram digitados 9 numeros\n",
      "==================================================\n",
      "Ordem decrescente: [50, 25, 10, 5, 4, 3, 2, 2, 1]\n",
      "==================================================\n",
      "O numero 5 apareceu!\n",
      "==================================================\n"
     ]
    }
   ],
   "source": [
    "num = []\n",
    "condicao = -1\n",
    "while True:\n",
    "    n = int(input('Digite numero: '))\n",
    "    if n == -1:\n",
    "        print('Digitou -1')\n",
    "        break\n",
    "    else:\n",
    "        num.append(n)\n",
    "numR = num[:]\n",
    "numR.sort(reverse=True)\n",
    "# print(num)\n",
    "print('='*50)\n",
    "print(f'Foram digitados {len(num)} numeros')\n",
    "print('='*50)\n",
    "print(f'Ordem decrescente: {numR}')\n",
    "if 5 in num:\n",
    "    print('='*50)\n",
    "    print('O numero 5 apareceu!')\n",
    "    print('='*50)\n",
    "else:\n",
    "    print('Não foi encontrado o número 5')"
   ]
  },
  {
   "cell_type": "code",
   "execution_count": 115,
   "id": "b178b11a",
   "metadata": {},
   "outputs": [
    {
     "name": "stdout",
     "output_type": "stream",
     "text": [
      "==========\n"
     ]
    }
   ],
   "source": [
    "print('='*10)"
   ]
  },
  {
   "cell_type": "code",
   "execution_count": 92,
   "id": "8a4ed7b0",
   "metadata": {},
   "outputs": [
    {
     "name": "stdout",
     "output_type": "stream",
     "text": [
      "None\n",
      "[1, 2, 3, 4]\n",
      "[4, 3, 2, 1]\n"
     ]
    }
   ],
   "source": [
    "print(numR.sort(reverse=True))\n",
    "print(num)\n",
    "print(numR)"
   ]
  },
  {
   "cell_type": "code",
   "execution_count": 75,
   "id": "bf2ce9cc",
   "metadata": {},
   "outputs": [
    {
     "name": "stdout",
     "output_type": "stream",
     "text": [
      "Ordem decrescente: None numeros\n",
      "Ordem decrescente: None numeros\n"
     ]
    }
   ],
   "source": [
    "print(f'Ordem decrescente: {num.sort()} numeros')\n",
    "print(f'Ordem decrescente: {num.sort(reverse=True)} numeros')"
   ]
  },
  {
   "cell_type": "code",
   "execution_count": 82,
   "id": "4362b889",
   "metadata": {},
   "outputs": [
    {
     "name": "stdout",
     "output_type": "stream",
     "text": [
      "None\n",
      "[1, 2, 3, 4]\n",
      "[4, 3, 2, 1]\n"
     ]
    }
   ],
   "source": [
    "# print(num.sort(reverse=True))\n",
    "print(numR.sort(reverse=True))\n",
    "print(num)\n",
    "print(numR)"
   ]
  },
  {
   "cell_type": "code",
   "execution_count": 3,
   "id": "434f1d8b",
   "metadata": {},
   "outputs": [
    {
     "name": "stdout",
     "output_type": "stream",
     "text": [
      "Digite um valor: 4\n",
      "Quer continuar? [S/N] s\n",
      "Digite um valor: 3\n",
      "Quer continuar? [S/N] s\n",
      "Digite um valor: 5\n",
      "Quer continuar? [S/N] s\n",
      "Digite um valor: 1\n",
      "Quer continuar? [S/N] s\n",
      "Digite um valor: 0\n",
      "Quer continuar? [S/N] n\n",
      "-=-=-=-=-=-=-=-=-=-=-=-=-=-=-=-=-=-=-=-=-=-=-=-=-=-=-=-=-=-=\n",
      "Você digitou 5 elementos.\n",
      "Você digitou em ordem decrescente são [5, 4, 3, 1, 0]\n",
      "O valor 5 faz parte da lista!\n"
     ]
    }
   ],
   "source": [
    "# Resolução do Professor\n",
    "\n",
    "valores = []\n",
    "while True:\n",
    "    valores.append(int(input('Digite um valor: ')))\n",
    "    resp = str(input('Quer continuar? [S/N] '))\n",
    "    if resp in 'Nn':\n",
    "        break\n",
    "print('-='*30)\n",
    "print(f'Você digitou {len(valores)} elementos.')\n",
    "valores.sort(reverse=True)\n",
    "print(f'Você digitou em ordem decrescente são {valores}')\n",
    "if 5 in valores:\n",
    "    print('O valor 5 faz parte da lista!')\n",
    "else:\n",
    "    print('O valor 5 não foi encontrado na lista!')\n",
    "    "
   ]
  }
 ],
 "metadata": {
  "kernelspec": {
   "display_name": "Python 3 (ipykernel)",
   "language": "python",
   "name": "python3"
  },
  "language_info": {
   "codemirror_mode": {
    "name": "ipython",
    "version": 3
   },
   "file_extension": ".py",
   "mimetype": "text/x-python",
   "name": "python",
   "nbconvert_exporter": "python",
   "pygments_lexer": "ipython3",
   "version": "3.8.9"
  }
 },
 "nbformat": 4,
 "nbformat_minor": 5
}
