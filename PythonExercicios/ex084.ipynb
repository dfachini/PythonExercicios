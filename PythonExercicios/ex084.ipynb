{
 "cells": [
  {
   "cell_type": "code",
   "execution_count": null,
   "id": "2fa7ea02",
   "metadata": {},
   "outputs": [],
   "source": [
    "# Programa Leia Nome e Peso.\n",
    "# Quantidade de pessoas cadastradas.\n",
    "# Uma listagem com as pessoas mais pesadas\n",
    "# Uma listagem com as pessoas mais leves"
   ]
  },
  {
   "cell_type": "code",
   "execution_count": null,
   "id": "1fc86353",
   "metadata": {},
   "outputs": [],
   "source": [
    "lista = []\n",
    "pessoas = []\n",
    "pesoTemporario = []\n",
    "pesoMaiorFinal = []\n",
    "pesoMenorFinal = []\n",
    "valor = \"\"\n",
    "qtde = 0\n",
    "pesomai = pesomen = 0\n",
    "while valor in 'Ss':\n",
    "    lista.append(str(input('Nome: ')))\n",
    "    lista.append(int(input('Peso: ')))\n",
    "    pessoas.append(lista[:])\n",
    "#     pesoTemporario.append(lista[0][1])\n",
    "    lista.clear()\n",
    "    qtde += 1\n",
    "    valor = input('Digite S/N: ')\n",
    "\n",
    "if pesomai == pesomen:\n",
    "    print()\n",
    "\n",
    "print(lista)\n",
    "print(pessoas)\n",
    "print(f'Total de pessoas cadastradas {qtde}')"
   ]
  },
  {
   "cell_type": "code",
   "execution_count": null,
   "id": "4da73def",
   "metadata": {},
   "outputs": [],
   "source": [
    "# pessoas.clear()\n",
    "pesoTemporario.clear()"
   ]
  },
  {
   "cell_type": "code",
   "execution_count": null,
   "id": "623b2a86",
   "metadata": {},
   "outputs": [],
   "source": [
    "for p in pessoas:\n",
    "#     print(p[1])\n",
    "#     if p[1] >\n",
    "    pesoTemporario.append(p[1])\n",
    "    if pesoTemporario == p[1]:\n",
    "        pesoMaiorFinal.append(pesoTemporario)\n",
    "    if pesoTemporario > p[1]:\n",
    "        pesoMaiorFinal.clear()\n",
    "        pesoMaiorFinal.append(pesoTemporario)\n",
    "    else:\n",
    "        pesoMenorFinal.append(pesoTemporario)\n",
    "\n",
    "    print(pesoTemporario)\n",
    "    pesoTemporario.clear()\n",
    "    print(pesoMaiorFinal)"
   ]
  },
  {
   "cell_type": "code",
   "execution_count": null,
   "id": "b2652d7d",
   "metadata": {},
   "outputs": [],
   "source": [
    "print(pessoas)\n",
    "print(pesoTemporario)"
   ]
  },
  {
   "cell_type": "code",
   "execution_count": null,
   "id": "c14bdcf9",
   "metadata": {},
   "outputs": [],
   "source": [
    "# pesoTemporario.append = lista[:]\n",
    "\n",
    "for p in pessoas:\n",
    "    if pesoTemporario > p[1]:\n",
    "        pesoMaiorFinal.clear()\n",
    "        pesoMaiorFinal.append(pesoTemporario)\n",
    "    if pesoTemporario == pesoMaior:\n",
    "        pesoMaiorFinal.append(pesoTemporario)\n",
    "    else:\n",
    "        pesoMenorFinal.append(pesoTemporario)"
   ]
  },
  {
   "cell_type": "code",
   "execution_count": null,
   "id": "92c118d5",
   "metadata": {},
   "outputs": [],
   "source": [
    "for i in pessoas:\n",
    "    print(i[1])"
   ]
  },
  {
   "cell_type": "markdown",
   "id": "8fd3a446",
   "metadata": {},
   "source": [
    "# Resolucao do Professor "
   ]
  },
  {
   "cell_type": "code",
   "execution_count": 82,
   "id": "821b8b1b",
   "metadata": {},
   "outputs": [
    {
     "name": "stdout",
     "output_type": "stream",
     "text": [
      "Nome: David\n",
      "Peso: 88\n",
      "Quer continuar? [S/N]: S\n",
      "Nome: Juliana\n",
      "Peso: 75\n",
      "Quer continuar? [S/N]: S\n",
      "Nome: Isabela\n",
      "Peso: 64\n",
      "Quer continuar? [S/N]: S\n",
      "Nome: Anderson\n",
      "Peso: 88\n",
      "Quer continuar? [S/N]: S\n",
      "Nome: Vinicius\n",
      "Peso: 81\n",
      "Quer continuar? [S/N]: N\n",
      "[['David', 88.0], ['Juliana', 75.0], ['Isabela', 64.0], ['Anderson', 88.0], ['Vinicius', 81.0]]\n",
      "==============================\n",
      "Foram cadastradas 5 pessoas.\n",
      "O maior peso foi de 88.0kg. Peso de [David] [Anderson] \n",
      "O menor peso foi de 64.0kg. Peso de [Isabela] \n"
     ]
    }
   ],
   "source": [
    "#Resolucao do Professor \n",
    "\n",
    "temp = []\n",
    "princ = []\n",
    "maior = menor = 0\n",
    "\n",
    "while True:\n",
    "    temp.append(str(input('Nome: ')))\n",
    "    temp.append(float(input('Peso: ')))\n",
    "    if len(princ) == 0:               # Se eu não cadastrei ninguem ainda, ou seja, maior e menor terão o mesmo valor.\n",
    "        maior = menor = temp[1]       # temp na posição [1] é o peso.\n",
    "    else:                             # Senão for a primeira condição verificar as abaixo\n",
    "        if temp[1] > maior:\n",
    "            maior = temp[1]           # maior passa a ser o temp[1]\n",
    "        if temp[1] < menor:\n",
    "            menor = temp[1]           # menor passa a ser o temp[1]\n",
    "    princ.append(temp[:])\n",
    "    temp.clear()\n",
    "    resp = str(input('Quer continuar? [S/N]: '))\n",
    "    if resp in 'Nn':\n",
    "        break\n",
    "\n",
    "print(princ)\n",
    "print('=' * 30)\n",
    "print(f'Foram cadastradas {len(princ)} pessoas.')\n",
    "print(f'O maior peso foi de {maior}kg. Peso de ', end='')\n",
    "for p in princ:\n",
    "    if p[1] == maior:\n",
    "        print(f'[{p[0]}] ', end='')\n",
    "print()\n",
    "print(f'O menor peso foi de {menor}kg. Peso de ', end='')\n",
    "for p in princ:\n",
    "    if p[1] == menor:\n",
    "        print(f'[{p[0]}] ', end='')\n",
    "print()"
   ]
  },
  {
   "cell_type": "code",
   "execution_count": 80,
   "id": "93b83aa4",
   "metadata": {},
   "outputs": [
    {
     "name": "stdout",
     "output_type": "stream",
     "text": [
      "Foram cadastradas 3 pessoas.\n",
      "==============================\n"
     ]
    }
   ],
   "source": [
    "# Quantidade de pessoas cadastradas:\n",
    "print(f'Foram cadastradas {len(princ)} pessoas.')\n",
    "print('=' * 30)"
   ]
  },
  {
   "cell_type": "code",
   "execution_count": 79,
   "id": "d2240c8f",
   "metadata": {},
   "outputs": [
    {
     "name": "stdout",
     "output_type": "stream",
     "text": [
      "david\n",
      "maria\n"
     ]
    }
   ],
   "source": [
    "# Listagem de pessoas com o maior e menor peso:\n",
    "for p in princ:              # Vai varrer o principal que tem lista dentro de lista\n",
    "    if p[1] == maior:        # Se o p[1](peso) for igual ao maior peso\n",
    "        print(f'{p[0]}')     # Mostrar o nome\n",
    "    if p[1] == menor:\n",
    "        print(f'{p[0]}')\n",
    "        "
   ]
  }
 ],
 "metadata": {
  "kernelspec": {
   "display_name": "Python 3 (ipykernel)",
   "language": "python",
   "name": "python3"
  },
  "language_info": {
   "codemirror_mode": {
    "name": "ipython",
    "version": 3
   },
   "file_extension": ".py",
   "mimetype": "text/x-python",
   "name": "python",
   "nbconvert_exporter": "python",
   "pygments_lexer": "ipython3",
   "version": "3.8.9"
  }
 },
 "nbformat": 4,
 "nbformat_minor": 5
}
