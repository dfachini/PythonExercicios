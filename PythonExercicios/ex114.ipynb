{
 "cells": [
  {
   "cell_type": "code",
   "execution_count": 12,
   "id": "1bfea6d2",
   "metadata": {},
   "outputs": [],
   "source": [
    "import urllib.request"
   ]
  },
  {
   "cell_type": "code",
   "execution_count": 19,
   "id": "b91969ae",
   "metadata": {},
   "outputs": [],
   "source": [
    "def validaURL():\n",
    "    valida = urllib.request.urlopen(\"http://pudim.com.br/\").getcode()\n",
    "    if valida == 200:\n",
    "        print('Site acessível')\n",
    "#         return valida\n",
    "    else:\n",
    "        print('Site inacessível')\n",
    "#         return valida"
   ]
  },
  {
   "cell_type": "code",
   "execution_count": 20,
   "id": "97b839ee",
   "metadata": {},
   "outputs": [
    {
     "name": "stdout",
     "output_type": "stream",
     "text": [
      "Site acessível\n"
     ]
    }
   ],
   "source": [
    "validaURL()"
   ]
  },
  {
   "cell_type": "markdown",
   "id": "9b773359",
   "metadata": {},
   "source": [
    "# Resolução do Professor"
   ]
  },
  {
   "cell_type": "code",
   "execution_count": 28,
   "id": "95785347",
   "metadata": {},
   "outputs": [
    {
     "name": "stdout",
     "output_type": "stream",
     "text": [
      "Consegui acessar o site Pudim com sucesso!\n"
     ]
    }
   ],
   "source": [
    "import urllib\n",
    "import urllib.request\n",
    "\n",
    "try:\n",
    "    site = urllib.request.urlopen('http://www.pudim.com.br')\n",
    "except urllib.error.URLError:\n",
    "    print('O site Pudim não está acessível no momento.')\n",
    "else:\n",
    "    print('Consegui acessar o site Pudim com sucesso!')\n",
    "#     print(site.read())  - Se quiser pegar o conteudo do site"
   ]
  }
 ],
 "metadata": {
  "kernelspec": {
   "display_name": "Python 3 (ipykernel)",
   "language": "python",
   "name": "python3"
  },
  "language_info": {
   "codemirror_mode": {
    "name": "ipython",
    "version": 3
   },
   "file_extension": ".py",
   "mimetype": "text/x-python",
   "name": "python",
   "nbconvert_exporter": "python",
   "pygments_lexer": "ipython3",
   "version": "3.9.6"
  }
 },
 "nbformat": 4,
 "nbformat_minor": 5
}
