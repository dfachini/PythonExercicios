{
 "cells": [
  {
   "cell_type": "code",
   "execution_count": null,
   "id": "549b36f4",
   "metadata": {},
   "outputs": [],
   "source": [
    "# Varias palavras na tupla e mostrar apenas as vogais"
   ]
  },
  {
   "cell_type": "code",
   "execution_count": 50,
   "id": "37989415",
   "metadata": {},
   "outputs": [
    {
     "name": "stdout",
     "output_type": "stream",
     "text": [
      "Na palavra aprender temos: a e e \n",
      "\n",
      "Na palavra programar temos: o a a \n",
      "\n",
      "Na palavra linguagem temos: i u a e \n",
      "\n",
      "Na palavra python temos: o \n",
      "\n",
      "Na palavra curso temos: u o \n",
      "\n",
      "Na palavra gratis temos: a i \n",
      "\n",
      "Na palavra estudar temos: e u a \n",
      "\n",
      "Na palavra praticar temos: a i a \n",
      "\n"
     ]
    }
   ],
   "source": [
    "palavras = ('aprender', 'programar', 'linguagem', 'python', 'curso', 'gratis', 'estudar', 'praticar')\n",
    "vogais = ('a', 'e', 'i', 'o', 'u')\n",
    "\n",
    "for p in range(len(palavras)):   \n",
    "    sizeW = palavras[p]\n",
    "    print(f'Na palavra {sizeW} temos: ', end=\"\")\n",
    "    for l in range(len(sizeW)):\n",
    "        if (sizeW[l]) in vogais:\n",
    "            print(f'{sizeW[l]} ', end=\"\")\n",
    "    print('\\n')"
   ]
  },
  {
   "cell_type": "code",
   "execution_count": 52,
   "id": "ec8ab378",
   "metadata": {},
   "outputs": [
    {
     "name": "stdout",
     "output_type": "stream",
     "text": [
      "\n",
      "Na palavra APRENDER temos a e e \n",
      "Na palavra PROGRAMAR temos o a a \n",
      "Na palavra LINGUAGEM temos i u a e \n",
      "Na palavra PYTHON temos o \n",
      "Na palavra CURSO temos u o \n",
      "Na palavra GRATIS temos a i \n",
      "Na palavra ESTUDAR temos e u a \n",
      "Na palavra PRATICAR temos a i a "
     ]
    }
   ],
   "source": [
    "# Resolução do Professor\n",
    "\n",
    "palavras = ('aprender', 'programar', 'linguagem', 'python', 'curso', 'gratis', 'estudar', 'praticar')\n",
    "for p in palavras:\n",
    "    print(f'\\nNa palavra {p.upper()} temos ', end='')\n",
    "    for letra in p:\n",
    "        if letra.lower() in 'aeiou':\n",
    "            print(letra, end=' ')"
   ]
  },
  {
   "cell_type": "code",
   "execution_count": null,
   "id": "6d9da88d",
   "metadata": {},
   "outputs": [],
   "source": []
  }
 ],
 "metadata": {
  "kernelspec": {
   "display_name": "Python 3 (ipykernel)",
   "language": "python",
   "name": "python3"
  },
  "language_info": {
   "codemirror_mode": {
    "name": "ipython",
    "version": 3
   },
   "file_extension": ".py",
   "mimetype": "text/x-python",
   "name": "python",
   "nbconvert_exporter": "python",
   "pygments_lexer": "ipython3",
   "version": "3.8.9"
  }
 },
 "nbformat": 4,
 "nbformat_minor": 5
}
