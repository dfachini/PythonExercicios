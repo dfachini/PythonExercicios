{
 "cells": [
  {
   "cell_type": "code",
   "execution_count": 7,
   "id": "b3f00f31",
   "metadata": {},
   "outputs": [
    {
     "name": "stdout",
     "output_type": "stream",
     "text": [
      "Digite o preço: R$400\n",
      "A metade de R$400,00 é R$200,00\n",
      "O dobro de R$400,00 é R$800,00\n",
      "Aumentando 10%, temos R$440,00\n",
      "Reduzindo 13%, temos R$348,00\n"
     ]
    }
   ],
   "source": [
    "import moeda\n",
    "\n",
    "p = float(input('Digite o preço: R$'))\n",
    "print(f'A metade de {moeda.moeda(p)} é {moeda.metade(p, True)}') # primeiro moeda é o nome do modulo e o segundo é o nome da função.\n",
    "print(f'O dobro de {moeda.moeda(p)} é {moeda.dobro(p, True)}')\n",
    "# print(f'Aumentando 10%, temos {moeda.aumentar(p)}')\n",
    "print(f'Aumentando 10%, temos {moeda.aumentar(p, 10, True)}')\n",
    "print(f'Reduzindo 13%, temos {moeda.diminuir(p, 13, True)}')"
   ]
  }
 ],
 "metadata": {
  "kernelspec": {
   "display_name": "Python 3 (ipykernel)",
   "language": "python",
   "name": "python3"
  },
  "language_info": {
   "codemirror_mode": {
    "name": "ipython",
    "version": 3
   },
   "file_extension": ".py",
   "mimetype": "text/x-python",
   "name": "python",
   "nbconvert_exporter": "python",
   "pygments_lexer": "ipython3",
   "version": "3.9.6"
  }
 },
 "nbformat": 4,
 "nbformat_minor": 5
}
