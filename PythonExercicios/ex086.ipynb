{
 "cells": [
  {
   "cell_type": "code",
   "execution_count": 45,
   "id": "e47ec1d4",
   "metadata": {},
   "outputs": [
    {
     "name": "stdout",
     "output_type": "stream",
     "text": [
      "Digite [0, 0]: 1\n",
      "Digite [0, 1]: 2\n",
      "Digite [0, 2]: 3\n",
      "Digite [1, 0]: 4\n",
      "Digite [1, 1]: 5\n",
      "Digite [1, 2]: 6\n",
      "Digite [2, 0]: 7\n",
      "Digite [2, 1]: 8\n",
      "Digite [2, 2]: 9\n",
      "-=-=-=-=-=-=-=-=-=-=-=-=-=-=-=-=-=-=-=-=-=-=-=-=-=-=-=-=-=-=\n",
      "[  1  ][  2  ][  3  ]\n",
      "[  4  ][  5  ][  6  ]\n",
      "[  7  ][  8  ][  9  ]\n"
     ]
    }
   ],
   "source": [
    "# Matriz 3x3\n",
    "\n",
    "matriz = [[0,0,0], [0,0,0], [0,0,0]]\n",
    "\n",
    "for l in range(0,3):\n",
    "    for c in range(0,3):\n",
    "        matriz[l][c] = int(input(f'Digite [{l}, {c}]: '))\n",
    "print('-='*30)\n",
    "for l in range(0,3):\n",
    "    for c in range(0,3):\n",
    "        print(f'[{matriz[l][c]:^5}]',end='')    # ^5 para formatar ficando 5 espaços centralizados \n",
    "    print()\n",
    "#     valor.append(int(input(f 'Digite ['{l}']')))\n",
    "#     for i in range(1,4):\n",
    "#         print(i, end='')"
   ]
  }
 ],
 "metadata": {
  "kernelspec": {
   "display_name": "Python 3 (ipykernel)",
   "language": "python",
   "name": "python3"
  },
  "language_info": {
   "codemirror_mode": {
    "name": "ipython",
    "version": 3
   },
   "file_extension": ".py",
   "mimetype": "text/x-python",
   "name": "python",
   "nbconvert_exporter": "python",
   "pygments_lexer": "ipython3",
   "version": "3.8.9"
  }
 },
 "nbformat": 4,
 "nbformat_minor": 5
}
