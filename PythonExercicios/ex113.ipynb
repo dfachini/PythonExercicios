{
 "cells": [
  {
   "cell_type": "code",
   "execution_count": 13,
   "id": "5142647b",
   "metadata": {},
   "outputs": [
    {
     "name": "stdout",
     "output_type": "stream",
     "text": [
      "1\n",
      "2\n",
      "O valor inteiro digitado foi 1 e o real foi 2.0\n"
     ]
    }
   ],
   "source": [
    "def leiaInt(msg):\n",
    "    while True:\n",
    "        try:    \n",
    "            n = int(input(msg))\n",
    "        except (ValueError, TypeError):\n",
    "            print('\\033[31mErro: por favor, digite um número inteiro válido.\\033[m')\n",
    "            continue\n",
    "        except (KeyboardInterrupt):\n",
    "            print('\\n\\033[31mUsuário preferiu não digitar esse número.\\033[m')\n",
    "            return 0\n",
    "        else:    \n",
    "            return n\n",
    "\n",
    "def leiaFloat(msg):\n",
    "    while True:\n",
    "        try:\n",
    "            n = float(input(msg))\n",
    "        except (ValueError, TypeError):\n",
    "            print('\\033[31mErro: por favor, digite um número real válido.\\033[m')\n",
    "            continue\n",
    "        except (KeyboardInterrupt):\n",
    "            print('\\n\\033[31mUsuário preferiu não digitar esse número.\\033[m')\n",
    "            return 0\n",
    "        else:\n",
    "            return n\n",
    "\n",
    "\n",
    "n1 = leiaInt('')\n",
    "n2 = leiaFloat('')\n",
    "print(f'O valor inteiro digitado foi {n1} e o real foi {n2}')"
   ]
  }
 ],
 "metadata": {
  "kernelspec": {
   "display_name": "Python 3 (ipykernel)",
   "language": "python",
   "name": "python3"
  },
  "language_info": {
   "codemirror_mode": {
    "name": "ipython",
    "version": 3
   },
   "file_extension": ".py",
   "mimetype": "text/x-python",
   "name": "python",
   "nbconvert_exporter": "python",
   "pygments_lexer": "ipython3",
   "version": "3.9.6"
  }
 },
 "nbformat": 4,
 "nbformat_minor": 5
}
