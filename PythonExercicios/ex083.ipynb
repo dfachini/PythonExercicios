{
 "cells": [
  {
   "cell_type": "code",
   "execution_count": 19,
   "id": "a48e7c98",
   "metadata": {},
   "outputs": [
    {
     "name": "stdout",
     "output_type": "stream",
     "text": [
      "Digite uma expressão: (1+2) * (4+3)\n",
      "Expressão correta!\n"
     ]
    }
   ],
   "source": [
    "contadorA = 0\n",
    "contadorB = 0\n",
    "expressao = str(input('Digite uma expressão: '))\n",
    "\n",
    "for c in expressao:\n",
    "    if c == '(':\n",
    "        contadorA +=1\n",
    "    if c == ')':\n",
    "        contadorB +=1\n",
    "if contadorA == contadorB:\n",
    "    print('Expressão correta!')\n",
    "else:\n",
    "    print('Expressão errada!')"
   ]
  },
  {
   "cell_type": "code",
   "execution_count": 1,
   "id": "716e9f02",
   "metadata": {},
   "outputs": [
    {
     "name": "stdout",
     "output_type": "stream",
     "text": [
      "Digite a expressão: (1+2)\n",
      "Sua expressão está válida!\n"
     ]
    }
   ],
   "source": [
    "# Resolução do Professor\n",
    "\n",
    "expr = str(input('Digite a expressão: '))\n",
    "pilha = []\n",
    "for simb in expr:\n",
    "    if simb == '(':\n",
    "        pilha.append('(')\n",
    "    elif simb == ')':\n",
    "        if len(pilha) > 0:\n",
    "            pilha.pop()   # A cada parenteses fechado ele remove um aberto.\n",
    "        else:\n",
    "            pilha.append(')')\n",
    "            break\n",
    "if len(pilha) == 0:\n",
    "    print('Sua expressão está válida!')\n",
    "else:\n",
    "    print('Sua expressão está errada!')"
   ]
  }
 ],
 "metadata": {
  "kernelspec": {
   "display_name": "Python 3 (ipykernel)",
   "language": "python",
   "name": "python3"
  },
  "language_info": {
   "codemirror_mode": {
    "name": "ipython",
    "version": 3
   },
   "file_extension": ".py",
   "mimetype": "text/x-python",
   "name": "python",
   "nbconvert_exporter": "python",
   "pygments_lexer": "ipython3",
   "version": "3.8.9"
  }
 },
 "nbformat": 4,
 "nbformat_minor": 5
}
