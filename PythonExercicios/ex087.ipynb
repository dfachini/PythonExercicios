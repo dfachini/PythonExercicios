{
 "cells": [
  {
   "cell_type": "code",
   "execution_count": 1,
   "id": "2fc54b79",
   "metadata": {},
   "outputs": [
    {
     "name": "stdout",
     "output_type": "stream",
     "text": [
      "Digite [0, 0]: 1\n",
      "Digite [0, 1]: 2\n",
      "Digite [0, 2]: 3\n",
      "Digite [1, 0]: 4\n",
      "Digite [1, 1]: 5\n",
      "Digite [1, 2]: 6\n",
      "Digite [2, 0]: 7\n",
      "Digite [2, 1]: 8\n",
      "Digite [2, 2]: 9\n",
      "-=-=-=-=-=-=-=-=-=-=-=-=-=-=-=-=-=-=-=-=-=-=-=-=-=-=-=-=-=-=\n",
      "[  1  ][  2  ][  3  ]\n",
      "[  4  ][  5  ][  6  ]\n",
      "[  7  ][  8  ][  9  ]\n"
     ]
    }
   ],
   "source": [
    "# Soma dos valores pares\n",
    "# Soma dos valores da terceira coluna\n",
    "# O maior valor da segunda linha\n",
    "\n",
    "matriz = [[0,0,0], [0,0,0], [0,0,0]]\n",
    "\n",
    "for l in range(0,3):\n",
    "    for c in range(0,3):\n",
    "        matriz[l][c] = int(input(f'Digite [{l}, {c}]: '))\n",
    "print('-='*30)\n",
    "for l in range(0,3):\n",
    "    for c in range(0,3):\n",
    "        print(f'[{matriz[l][c]:^5}]',end='')    # ^5 para formatar ficando 5 espaços centralizados \n",
    "    print()"
   ]
  },
  {
   "cell_type": "code",
   "execution_count": 45,
   "id": "3fe5c81f",
   "metadata": {},
   "outputs": [
    {
     "name": "stdout",
     "output_type": "stream",
     "text": [
      "A soma de pares foi: 20\n"
     ]
    }
   ],
   "source": [
    "# Soma dos valores pares\n",
    "soma = 0\n",
    "for s in matriz:\n",
    "    if s[0] % 2 == 0:\n",
    "        soma += s[0]\n",
    "#         print(s[0])\n",
    "    if s[1] % 2 == 0:\n",
    "        soma += s[1]\n",
    "#         print(s[1])\n",
    "#     print(s[0])\n",
    "    if s[2] % 2 == 0:\n",
    "#         print(s[2])\n",
    "        soma += s[2]\n",
    "\n",
    "print(f'A soma de pares foi: {soma}')"
   ]
  },
  {
   "cell_type": "code",
   "execution_count": 42,
   "id": "ec0f9be3",
   "metadata": {},
   "outputs": [
    {
     "name": "stdout",
     "output_type": "stream",
     "text": [
      "A soma da terceira coluna foi: 18\n"
     ]
    }
   ],
   "source": [
    "# Soma dos valores da terceira coluna\n",
    "soma = 0\n",
    "for s in matriz:\n",
    "    soma += s[2]\n",
    "print(f'A soma da terceira coluna foi: {soma}')"
   ]
  },
  {
   "cell_type": "code",
   "execution_count": 85,
   "id": "b2dd8265",
   "metadata": {},
   "outputs": [
    {
     "name": "stdout",
     "output_type": "stream",
     "text": [
      "456\n",
      "O maior valor da linha 2 foi: 6\n"
     ]
    }
   ],
   "source": [
    "# O maior valor da segunda linha\n",
    "maior = menor = 0\n",
    "c = 0\n",
    "for i in matriz[1]:\n",
    "    if i == 0:\n",
    "        print('maior e menor igual a 0.')\n",
    "    else:\n",
    "        if i > maior:\n",
    "            maior = i\n",
    "        if i < menor:\n",
    "            menor = i\n",
    "    print(i, end='')\n",
    "print()\n",
    "print(f'O maior valor da linha 2 foi: {maior}')"
   ]
  },
  {
   "cell_type": "markdown",
   "id": "f92a66ea",
   "metadata": {},
   "source": [
    "# Resolução do Professor"
   ]
  },
  {
   "cell_type": "code",
   "execution_count": 93,
   "id": "b3d5f27b",
   "metadata": {},
   "outputs": [
    {
     "name": "stdout",
     "output_type": "stream",
     "text": [
      "Digite [0, 0]: 1\n",
      "Digite [0, 1]: 2\n",
      "Digite [0, 2]: 3\n",
      "Digite [1, 0]: 4\n",
      "Digite [1, 1]: 5\n",
      "Digite [1, 2]: 6\n",
      "Digite [2, 0]: 7\n",
      "Digite [2, 1]: 8\n",
      "Digite [2, 2]: 9\n",
      "-=-=-=-=-=-=-=-=-=-=-=-=-=-=-=-=-=-=-=-=-=-=-=-=-=-=-=-=-=-=\n",
      "[  1  ][  2  ][  3  ]\n",
      "[  4  ][  5  ][  6  ]\n",
      "[  7  ][  8  ][  9  ]\n",
      "-=-=-=-=-=-=-=-=-=-=-=-=-=-=-=-=-=-=-=-=-=-=-=-=-=-=-=-=-=-=\n",
      "A soma dos valores pares é 20\n",
      "A soma da terceira coluna é 18\n",
      "O maior valor da segunda linha é 6\n"
     ]
    }
   ],
   "source": [
    "matriz = [[0,0,0], [0,0,0], [0,0,0]]\n",
    "spar = mai = scol = 0\n",
    "for l in range(0,3):\n",
    "    for c in range(0,3):\n",
    "        matriz[l][c] = int(input(f'Digite [{l}, {c}]: '))\n",
    "print('-='*30)\n",
    "for l in range(0,3):\n",
    "    for c in range(0,3):\n",
    "        print(f'[{matriz[l][c]:^5}]',end='')    # ^5 para formatar ficando 5 espaços centralizados \n",
    "        if matriz[l][c] % 2 == 0:\n",
    "            spar += matriz[l][c]\n",
    "    print()\n",
    "print('-='*30)\n",
    "print(f'A soma dos valores pares é {spar}')\n",
    "for l in range(0,3):\n",
    "    scol +=matriz[l][2]\n",
    "print(f'A soma da terceira coluna é {scol}')\n",
    "for c in range(0,3):\n",
    "    if c == 0:\n",
    "        mai = matriz[1][c]\n",
    "    elif matriz[1][c] > mai:\n",
    "        mai = matriz[1][c]\n",
    "print(f'O maior valor da segunda linha é {mai}')"
   ]
  }
 ],
 "metadata": {
  "kernelspec": {
   "display_name": "Python 3 (ipykernel)",
   "language": "python",
   "name": "python3"
  },
  "language_info": {
   "codemirror_mode": {
    "name": "ipython",
    "version": 3
   },
   "file_extension": ".py",
   "mimetype": "text/x-python",
   "name": "python",
   "nbconvert_exporter": "python",
   "pygments_lexer": "ipython3",
   "version": "3.8.9"
  }
 },
 "nbformat": 4,
 "nbformat_minor": 5
}
