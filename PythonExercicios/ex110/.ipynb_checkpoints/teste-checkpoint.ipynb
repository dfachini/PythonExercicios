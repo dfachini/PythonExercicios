{
 "cells": [
  {
   "cell_type": "code",
   "execution_count": 1,
   "id": "cc3c2c21",
   "metadata": {},
   "outputs": [
    {
     "name": "stdout",
     "output_type": "stream",
     "text": [
      "Digite o preço: R$200\n"
     ]
    },
    {
     "ename": "NameError",
     "evalue": "name 'moeda' is not defined",
     "output_type": "error",
     "traceback": [
      "\u001b[0;31m---------------------------------------------------------------------------\u001b[0m",
      "\u001b[0;31mNameError\u001b[0m                                 Traceback (most recent call last)",
      "Cell \u001b[0;32mIn[1], line 4\u001b[0m\n\u001b[1;32m      1\u001b[0m \u001b[38;5;66;03m## import moeda\u001b[39;00m\n\u001b[1;32m      3\u001b[0m p \u001b[38;5;241m=\u001b[39m \u001b[38;5;28mfloat\u001b[39m(\u001b[38;5;28minput\u001b[39m(\u001b[38;5;124m'\u001b[39m\u001b[38;5;124mDigite o preço: R$\u001b[39m\u001b[38;5;124m'\u001b[39m))\n\u001b[0;32m----> 4\u001b[0m \u001b[43mmoeda\u001b[49m\u001b[38;5;241m.\u001b[39mresumo(p, \u001b[38;5;241m80\u001b[39m, \u001b[38;5;241m35\u001b[39m)\n\u001b[1;32m      5\u001b[0m \u001b[38;5;66;03m# print(f'A metade de {moeda.moeda(p)} é {moeda.metade(p, True)}') # primeiro moeda é o nome do modulo e o segundo é o nome da função.\u001b[39;00m\n\u001b[1;32m      6\u001b[0m \u001b[38;5;66;03m# print(f'O dobro de {moeda.moeda(p)} é {moeda.dobro(p, True)}')\u001b[39;00m\n\u001b[1;32m      7\u001b[0m \u001b[38;5;66;03m# # print(f'Aumentando 10%, temos {moeda.aumentar(p)}')\u001b[39;00m\n\u001b[1;32m      8\u001b[0m \u001b[38;5;66;03m# print(f'Aumentando 10%, temos {moeda.aumentar(p, 10, True)}')\u001b[39;00m\n\u001b[1;32m      9\u001b[0m \u001b[38;5;66;03m# print(f'Reduzindo 13%, temos {moeda.diminuir(p, 13, True)}')\u001b[39;00m\n",
      "\u001b[0;31mNameError\u001b[0m: name 'moeda' is not defined"
     ]
    }
   ],
   "source": [
    "import moeda\n",
    "\n",
    "p = float(input('Digite o preço: R$'))\n",
    "moeda.resumo(p, 80, 35)\n",
    "# print(f'A metade de {moeda.moeda(p)} é {moeda.metade(p, True)}') # primeiro moeda é o nome do modulo e o segundo é o nome da função.\n",
    "# print(f'O dobro de {moeda.moeda(p)} é {moeda.dobro(p, True)}')\n",
    "# # print(f'Aumentando 10%, temos {moeda.aumentar(p)}')\n",
    "# print(f'Aumentando 10%, temos {moeda.aumentar(p, 10, True)}')\n",
    "# print(f'Reduzindo 13%, temos {moeda.diminuir(p, 13, True)}')"
   ]
  }
 ],
 "metadata": {
  "kernelspec": {
   "display_name": "Python 3 (ipykernel)",
   "language": "python",
   "name": "python3"
  },
  "language_info": {
   "codemirror_mode": {
    "name": "ipython",
    "version": 3
   },
   "file_extension": ".py",
   "mimetype": "text/x-python",
   "name": "python",
   "nbconvert_exporter": "python",
   "pygments_lexer": "ipython3",
   "version": "3.9.6"
  }
 },
 "nbformat": 4,
 "nbformat_minor": 5
}
