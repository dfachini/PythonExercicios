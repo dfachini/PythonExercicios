{
 "cells": [
  {
   "cell_type": "code",
   "execution_count": 1,
   "id": "0a88db9a",
   "metadata": {},
   "outputs": [
    {
     "name": "stdout",
     "output_type": "stream",
     "text": [
      "Digite o preço: R$200\n",
      "------------------------------\n",
      "       RESUMO DO VALOR        \n",
      "------------------------------\n",
      "Preço analisado: \tR$200,00\n",
      "Dobro do preço: \tR$400,00\n",
      "Metade do preço: \tR$100,00\n",
      "Com 80% de aumento: \tR$360,00\n",
      "Com 35% de redução: \tR$130,00\n",
      "------------------------------\n"
     ]
    }
   ],
   "source": [
    "import moeda\n",
    "\n",
    "p = float(input('Digite o preço: R$'))\n",
    "moeda.resumo(p, 80, 35)\n",
    "# print(f'A metade de {moeda.moeda(p)} é {moeda.metade(p, True)}') # primeiro moeda é o nome do modulo e o segundo é o nome da função.\n",
    "# print(f'O dobro de {moeda.moeda(p)} é {moeda.dobro(p, True)}')\n",
    "# # print(f'Aumentando 10%, temos {moeda.aumentar(p)}')\n",
    "# print(f'Aumentando 10%, temos {moeda.aumentar(p, 10, True)}')\n",
    "# print(f'Reduzindo 13%, temos {moeda.diminuir(p, 13, True)}')"
   ]
  }
 ],
 "metadata": {
  "kernelspec": {
   "display_name": "Python 3 (ipykernel)",
   "language": "python",
   "name": "python3"
  },
  "language_info": {
   "codemirror_mode": {
    "name": "ipython",
    "version": 3
   },
   "file_extension": ".py",
   "mimetype": "text/x-python",
   "name": "python",
   "nbconvert_exporter": "python",
   "pygments_lexer": "ipython3",
   "version": "3.9.6"
  }
 },
 "nbformat": 4,
 "nbformat_minor": 5
}
