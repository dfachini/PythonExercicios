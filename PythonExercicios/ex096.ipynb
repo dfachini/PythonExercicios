{
 "cells": [
  {
   "cell_type": "code",
   "execution_count": 13,
   "id": "003c7781",
   "metadata": {},
   "outputs": [
    {
     "name": "stdout",
     "output_type": "stream",
     "text": [
      "Controle de Terrenos\n",
      "------------------------------\n",
      "LARGURA (m): 3\n",
      "COMPRIMENTO (m): 3\n",
      "A área de um terreno 3.0x3.0 é de 9.0m.\n"
     ]
    }
   ],
   "source": [
    "# Dimensoes de um terreno\n",
    "\n",
    "def area(larg, comp):\n",
    "    a = larg * comp\n",
    "    print(f'A área de um terreno {larg}x{comp} é de {a}m.')\n",
    "²\n",
    "\n",
    "# Programa principal\n",
    "print(f'Controle de Terrenos')\n",
    "print('-'*30)\n",
    "largura = float(input('LARGURA (m): '))\n",
    "comprimento = float(input('COMPRIMENTO (m): '))\n",
    "area(largura, comprimento)\n"
   ]
  },
  {
   "cell_type": "markdown",
   "id": "8338a9d5",
   "metadata": {},
   "source": [
    "# Resolucão do Professor"
   ]
  },
  {
   "cell_type": "code",
   "execution_count": 3,
   "id": "8f4f099e",
   "metadata": {},
   "outputs": [
    {
     "name": "stdout",
     "output_type": "stream",
     "text": [
      " Controle de Terrenos\n",
      "--------------------\n",
      "LARGURA (m): 3\n",
      "COMPRIMENTO (m): 3\n",
      "A área de um terreno 3.0x3.0 é de 9.0m².\n"
     ]
    }
   ],
   "source": [
    "def area(larg, comp):\n",
    "    a = larg * comp\n",
    "    print(f'A área de um terreno {larg}x{comp} é de {a}m².')\n",
    "\n",
    "\n",
    "# Programa Principal\n",
    "print(' Controle de Terrenos')\n",
    "print('-' * 20)\n",
    "l = float(input('LARGURA (m): '))\n",
    "c = float(input('COMPRIMENTO (m): '))\n",
    "area(l, c)"
   ]
  }
 ],
 "metadata": {
  "kernelspec": {
   "display_name": "Python 3 (ipykernel)",
   "language": "python",
   "name": "python3"
  },
  "language_info": {
   "codemirror_mode": {
    "name": "ipython",
    "version": 3
   },
   "file_extension": ".py",
   "mimetype": "text/x-python",
   "name": "python",
   "nbconvert_exporter": "python",
   "pygments_lexer": "ipython3",
   "version": "3.8.9"
  }
 },
 "nbformat": 4,
 "nbformat_minor": 5
}
