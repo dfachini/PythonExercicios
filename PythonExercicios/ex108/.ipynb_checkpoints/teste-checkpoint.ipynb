{
 "cells": [
  {
   "cell_type": "code",
   "execution_count": 3,
   "id": "e075942b",
   "metadata": {},
   "outputs": [
    {
     "name": "stdout",
     "output_type": "stream",
     "text": [
      "Digite o preço: R$ 4.5\n",
      "A metade de R$4,5 é 2.25\n",
      "O dobro de 4.5 é 9.0\n",
      "Aumentando 10%, temos 4.95\n",
      "Reduzindo 13%, temos 3.915\n"
     ]
    }
   ],
   "source": [
    "import moeda\n",
    "\n",
    "p = float(input('Digite o preço: R$ '))\n",
    "print(f'A metade de {moeda.moeda(p)} é {moeda.metade(p)}') # primeiro moeda é o nome do modulo e o segundo é o nome da função.\n",
    "print(f'O dobro de {p} é {moeda.dobro(p)}')\n",
    "# print(f'Aumentando 10%, temos {moeda.aumentar(p)}')\n",
    "print(f'Aumentando 10%, temos {moeda.aumentar(p, 10)}')\n",
    "print(f'Reduzindo 13%, temos {moeda.diminuir(p, 13)}')"
   ]
  }
 ],
 "metadata": {
  "kernelspec": {
   "display_name": "Python 3 (ipykernel)",
   "language": "python",
   "name": "python3"
  },
  "language_info": {
   "codemirror_mode": {
    "name": "ipython",
    "version": 3
   },
   "file_extension": ".py",
   "mimetype": "text/x-python",
   "name": "python",
   "nbconvert_exporter": "python",
   "pygments_lexer": "ipython3",
   "version": "3.9.6"
  }
 },
 "nbformat": 4,
 "nbformat_minor": 5
}
