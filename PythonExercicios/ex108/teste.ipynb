{
 "cells": [
  {
   "cell_type": "code",
   "execution_count": 1,
   "id": "e075942b",
   "metadata": {},
   "outputs": [
    {
     "name": "stdout",
     "output_type": "stream",
     "text": [
      "Digite o preço: R$ 3.5\n",
      "A metade de R$3,50 é R$1,75\n",
      "O dobro de R$3,50 é R$7,00\n",
      "Aumentando 10%, temos R$3,85\n",
      "Reduzindo 13%, temos R$3,04\n"
     ]
    }
   ],
   "source": [
    "import moeda\n",
    "\n",
    "p = float(input('Digite o preço: R$ '))\n",
    "print(f'A metade de {moeda.moeda(p)} é {moeda.moeda(moeda.metade(p))}') # primeiro moeda é o nome do modulo e o segundo é o nome da função.\n",
    "print(f'O dobro de {moeda.moeda(p)} é {moeda.moeda(moeda.dobro(p))}')\n",
    "# print(f'Aumentando 10%, temos {moeda.aumentar(p)}')\n",
    "print(f'Aumentando 10%, temos {moeda.moeda(moeda.aumentar(p, 10))}')\n",
    "print(f'Reduzindo 13%, temos {moeda.moeda(moeda.diminuir(p, 13))}')"
   ]
  }
 ],
 "metadata": {
  "kernelspec": {
   "display_name": "Python 3 (ipykernel)",
   "language": "python",
   "name": "python3"
  },
  "language_info": {
   "codemirror_mode": {
    "name": "ipython",
    "version": 3
   },
   "file_extension": ".py",
   "mimetype": "text/x-python",
   "name": "python",
   "nbconvert_exporter": "python",
   "pygments_lexer": "ipython3",
   "version": "3.9.6"
  }
 },
 "nbformat": 4,
 "nbformat_minor": 5
}
