{
 "cells": [
  {
   "cell_type": "markdown",
   "id": "25bbf8b4",
   "metadata": {},
   "source": [
    "# Criar lista com vários números\n",
    "# Criar 2 listas"
   ]
  },
  {
   "cell_type": "code",
   "execution_count": 14,
   "id": "a86d3af6",
   "metadata": {},
   "outputs": [
    {
     "name": "stdout",
     "output_type": "stream",
     "text": [
      "Digite número: 1\n",
      "Digite número: 2\n",
      "Digite número: 3\n",
      "Digite número: 4\n",
      "Digite número: 5\n",
      "Digite número: 6\n",
      "Digite número: 7\n",
      "Digite número: 8\n",
      "Digite número: 9\n",
      "Digite número: 20\n",
      "Digite número: 19\n",
      "Digite número: 18\n",
      "Digite número: 17\n",
      "Digite número: 16\n",
      "Digite número: 15\n",
      "Digite número: 14\n",
      "Digite número: 13\n",
      "Digite número: 12\n",
      "Digite número: 11\n",
      "Digite número: 10\n",
      "Digite número: -1\n",
      "Lista original [1, 2, 3, 4, 5, 6, 7, 8, 9, 20, 19, 18, 17, 16, 15, 14, 13, 12, 11, 10]\n",
      "Lista números pares: [2, 4, 6, 8, 20, 18, 16, 14, 12, 10]\n",
      "Lista números impares: [1, 3, 5, 7, 9, 19, 17, 15, 13, 11]\n"
     ]
    }
   ],
   "source": [
    "listaNum1 = []\n",
    "listaNum2 = []\n",
    "listaNum3 = []\n",
    "while True:\n",
    "    n = int(input('Digite número: '))\n",
    "    if n == -1:\n",
    "        break\n",
    "        print('Digitou -1')\n",
    "    else:\n",
    "        listaNum1.append(n)\n",
    "# Criação das novas listas [par e impar]\n",
    "for i in listaNum1:\n",
    "    if i%2 == 0:\n",
    "        listaNum2.append(i)\n",
    "    if i%2 == 1:\n",
    "        listaNum3.append(i)\n",
    "\n",
    "print(f'Lista original {listaNum1}')\n",
    "print(f'Lista números pares: {listaNum2}')\n",
    "print(f'Lista números impares: {listaNum3}')"
   ]
  },
  {
   "cell_type": "code",
   "execution_count": 8,
   "id": "f0a87ea7",
   "metadata": {},
   "outputs": [
    {
     "name": "stdout",
     "output_type": "stream",
     "text": [
      "[1, 2, 3, 4, 5, 6, 10, 11, 15, 24, 5, 6, 7, 8]\n"
     ]
    }
   ],
   "source": [
    "print(listaNum1)\n"
   ]
  },
  {
   "cell_type": "code",
   "execution_count": 13,
   "id": "da030d4f",
   "metadata": {},
   "outputs": [
    {
     "name": "stdout",
     "output_type": "stream",
     "text": [
      "Lista original [1, 2, 3, 4, 5, 6, 10, 11, 15, 24, 5, 6, 7, 8]\n",
      "Lista números pares: [2, 4, 6, 10, 24, 6, 8, 2, 4, 6, 10, 24, 6, 8]\n",
      "Lista números impares: [1, 3, 5, 11, 15, 5, 7, 1, 3, 5, 11, 15, 5, 7]\n"
     ]
    }
   ],
   "source": []
  },
  {
   "cell_type": "code",
   "execution_count": 6,
   "id": "64693eeb",
   "metadata": {},
   "outputs": [
    {
     "name": "stdout",
     "output_type": "stream",
     "text": [
      "Digite um número: 5\n",
      "Quer continuar? [S/N] s\n",
      "Digite um número: 4\n",
      "Quer continuar? [S/N] s\n",
      "Digite um número: 3\n",
      "Quer continuar? [S/N] s\n",
      "Digite um número: 2\n",
      "Quer continuar? [S/N] n\n",
      "-=-=-=-=-=-=-=-=-=-=-=-=-=-=-=-=-=-=-=-=-=-=-=-=-=-=-=-=-=-=\n",
      "A lista completa é [5, 4, 3, 2]\n",
      "A lista de pares é [4, 2]\n",
      "A lista de impares é [5, 3]\n"
     ]
    }
   ],
   "source": [
    "# Resolução do Professor \n",
    "\n",
    "num = list()\n",
    "pares = list()\n",
    "impares = list()\n",
    "while True:\n",
    "    num.append(int(input('Digite um número: ')))\n",
    "    resp = str(input('Quer continuar? [S/N] '))\n",
    "    if resp in 'Nn':\n",
    "        break\n",
    "for i, v in enumerate(num):\n",
    "    if v % 2 == 0:\n",
    "        pares.append(v)\n",
    "    elif v % 2 == 1:\n",
    "        impares.append(v)\n",
    "print('-='*30)\n",
    "print(f'A lista completa é {num}')\n",
    "print(f'A lista de pares é {pares}')\n",
    "print(f'A lista de impares é {impares}')"
   ]
  }
 ],
 "metadata": {
  "kernelspec": {
   "display_name": "Python 3 (ipykernel)",
   "language": "python",
   "name": "python3"
  },
  "language_info": {
   "codemirror_mode": {
    "name": "ipython",
    "version": 3
   },
   "file_extension": ".py",
   "mimetype": "text/x-python",
   "name": "python",
   "nbconvert_exporter": "python",
   "pygments_lexer": "ipython3",
   "version": "3.8.9"
  }
 },
 "nbformat": 4,
 "nbformat_minor": 5
}
