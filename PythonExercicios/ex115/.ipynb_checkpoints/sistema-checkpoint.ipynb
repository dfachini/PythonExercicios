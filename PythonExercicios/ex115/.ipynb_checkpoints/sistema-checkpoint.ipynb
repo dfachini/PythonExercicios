{
 "cells": [
  {
   "cell_type": "code",
   "execution_count": 6,
   "id": "066a2fb0",
   "metadata": {},
   "outputs": [],
   "source": [
    "from lib.interface import *\n",
    "from lib.arquivo import *\n",
    "from time import sleep"
   ]
  },
  {
   "cell_type": "code",
   "execution_count": 9,
   "id": "0a19bad1",
   "metadata": {},
   "outputs": [],
   "source": [
    "arq = 'cursoemvideo.txt'\n",
    "\n",
    "if not arquivoExiste(arq):\n",
    "    criarArquivo(arq)"
   ]
  },
  {
   "cell_type": "code",
   "execution_count": 12,
   "id": "4d6c1565",
   "metadata": {},
   "outputs": [
    {
     "name": "stdout",
     "output_type": "stream",
     "text": [
      "------------------------------------------\n",
      "              MENU PRINCIPAL              \n",
      "------------------------------------------\n",
      "\u001b[33m1\u001b[m - \u001b[34mVer pessoas cadastradas\u001b[m\n",
      "\u001b[33m2\u001b[m - \u001b[34mCadastrar nova Pessoa\u001b[m\n",
      "\u001b[33m3\u001b[m - \u001b[34mSair do Sistema\u001b[m\n",
      "------------------------------------------\n",
      "Sua Opção: 1\n",
      "------------------------------------------\n",
      "           PESSOAS CADASTRADAS            \n",
      "------------------------------------------\n",
      "Gustavo;41\n",
      "Ana;22\n",
      "Pedro;35\n",
      "Paulo;95\n",
      "José;55\n",
      "------------------------------------------\n",
      "              MENU PRINCIPAL              \n",
      "------------------------------------------\n",
      "\u001b[33m1\u001b[m - \u001b[34mVer pessoas cadastradas\u001b[m\n",
      "\u001b[33m2\u001b[m - \u001b[34mCadastrar nova Pessoa\u001b[m\n",
      "\u001b[33m3\u001b[m - \u001b[34mSair do Sistema\u001b[m\n",
      "------------------------------------------\n",
      "Sua Opção: 3\n",
      "------------------------------------------\n",
      "      Saindo do sistema... Até logo!      \n",
      "------------------------------------------\n"
     ]
    }
   ],
   "source": [
    "while True:\n",
    "    resposta = menu(['Ver pessoas cadastradas', 'Cadastrar nova Pessoa', 'Sair do Sistema'])\n",
    "    if resposta == 1:\n",
    "#         cabecalho('Opção 1')\n",
    "    # Opção de listar o conteúdo de um arquivo!\n",
    "        lerArquivo(arq)\n",
    "    elif resposta == 2:\n",
    "#         cabecalho('Opção 2')\n",
    "        cabecalho('NOVO CADASTRO')\n",
    "        nome = str(input('Nome: '))\n",
    "        idade = leiaInt('Idade: ')\n",
    "        cadastrar(arq, nome, idade)\n",
    "    elif resposta == 3:\n",
    "        cabecalho('Saindo do sistema... Até logo!')\n",
    "        break\n",
    "    else:\n",
    "        print('\\033[31mErro! Digite uma opção válida!\\033[m')\n",
    "    sleep(2)"
   ]
  }
 ],
 "metadata": {
  "kernelspec": {
   "display_name": "Python 3 (ipykernel)",
   "language": "python",
   "name": "python3"
  },
  "language_info": {
   "codemirror_mode": {
    "name": "ipython",
    "version": 3
   },
   "file_extension": ".py",
   "mimetype": "text/x-python",
   "name": "python",
   "nbconvert_exporter": "python",
   "pygments_lexer": "ipython3",
   "version": "3.9.6"
  }
 },
 "nbformat": 4,
 "nbformat_minor": 5
}
