{
 "cells": [
  {
   "cell_type": "code",
   "execution_count": 97,
   "id": "60a89aa8",
   "metadata": {},
   "outputs": [
    {
     "name": "stdout",
     "output_type": "stream",
     "text": [
      "Nome: Mané\n",
      "Quantas partidas jogadas: 2\n"
     ]
    }
   ],
   "source": [
    "# Aproveitamento de jogador de futebol\n",
    "jogador1 = {}\n",
    "\n",
    "jogador1['nome'] = str(input('Nome: '))\n",
    "jogador1['qtde partidas'] = int(input('Quantas partidas jogadas: '))"
   ]
  },
  {
   "cell_type": "code",
   "execution_count": 99,
   "id": "cd4ca4a1",
   "metadata": {},
   "outputs": [
    {
     "name": "stdout",
     "output_type": "stream",
     "text": [
      "2\n"
     ]
    }
   ],
   "source": [
    "print(jogador1['qtde partidas'])"
   ]
  },
  {
   "cell_type": "code",
   "execution_count": 100,
   "id": "6d30b458",
   "metadata": {},
   "outputs": [
    {
     "name": "stdout",
     "output_type": "stream",
     "text": [
      "Quantos gols na partida 0: 2\n",
      "Quantos gols na partida 1: 3\n"
     ]
    }
   ],
   "source": [
    "# Quantos gols por partida ? \n",
    "list = []\n",
    "gols = []\n",
    "total = 0\n",
    "for n in range(jogador1['qtde partidas']):\n",
    "    list = int(input(f'Quantos gols na partida {n}: '))\n",
    "    gols.append(list)\n",
    "    total += list"
   ]
  },
  {
   "cell_type": "code",
   "execution_count": 101,
   "id": "8a293a87",
   "metadata": {},
   "outputs": [],
   "source": [
    "jogador1['gols'] = gols\n",
    "jogador1['total'] = total"
   ]
  },
  {
   "cell_type": "code",
   "execution_count": 102,
   "id": "e7a225d6",
   "metadata": {},
   "outputs": [
    {
     "name": "stdout",
     "output_type": "stream",
     "text": [
      "{'nome': 'Mané', 'qtde partidas': 2, 'gols': [2, 3], 'total': 5}\n",
      "[2, 3]\n",
      "5\n"
     ]
    }
   ],
   "source": [
    "print(jogador1)\n",
    "print(gols)\n",
    "print(total)\n"
   ]
  },
  {
   "cell_type": "code",
   "execution_count": 103,
   "id": "e5efb5ea",
   "metadata": {},
   "outputs": [
    {
     "name": "stdout",
     "output_type": "stream",
     "text": [
      "O campo nome tem o valor Mané.\n",
      "O campo qtde partidas tem o valor 2.\n",
      "O campo gols tem o valor [2, 3].\n",
      "O campo total tem o valor 5.\n"
     ]
    }
   ],
   "source": [
    "for k, v in jogador1.items():\n",
    "    print(f'O campo {k} tem o valor {v}.')"
   ]
  },
  {
   "cell_type": "code",
   "execution_count": 104,
   "id": "417f2063",
   "metadata": {},
   "outputs": [
    {
     "name": "stdout",
     "output_type": "stream",
     "text": [
      "O jogador Mané jogou 2 partidas.\n",
      "Na partida 0, fez 2.\n",
      "Na partida 1, fez 3.\n",
      "Foi um total de 5 gols.\n"
     ]
    }
   ],
   "source": [
    "print(f'O jogador {jogador1[\"nome\"]} jogou {jogador1[\"qtde partidas\"]} partidas.')\n",
    "for n in range(jogador1['qtde partidas']):\n",
    "    print(f'Na partida {n}, fez {jogador1[\"gols\"][n]}.')\n",
    "print(f'Foi um total de {jogador1[\"total\"]} gols.')"
   ]
  },
  {
   "cell_type": "code",
   "execution_count": 105,
   "id": "780a71f5",
   "metadata": {},
   "outputs": [
    {
     "name": "stdout",
     "output_type": "stream",
     "text": [
      "Nome: Dudu\n",
      "Quantas partidas jogadas: 3\n",
      "Quantos gols na partida 0: 4\n",
      "Quantos gols na partida 1: 3\n",
      "Quantos gols na partida 2: 2\n",
      "-=-=-=-=-=-=-=-=-=-=-=-=-=-=-=-=-=-=-=-=-=-=-=-=-=-=-=-=-=-=-=-=-=-=-=-=-=-=-=-=-=-=-=-=-=-=-=-=-=-=\n",
      "{'nome': 'Dudu', 'qtde partidas': 3, 'gols': [4, 3, 2], 'total': 9}\n",
      "-=-=-=-=-=-=-=-=-=-=-=-=-=-=-=-=-=-=-=-=-=-=-=-=-=-=-=-=-=-=-=-=-=-=-=-=-=-=-=-=-=-=-=-=-=-=-=-=-=-=\n",
      "O campo nome tem o valor Dudu.\n",
      "O campo qtde partidas tem o valor 3.\n",
      "O campo gols tem o valor [4, 3, 2].\n",
      "O campo total tem o valor 9.\n",
      "-=-=-=-=-=-=-=-=-=-=-=-=-=-=-=-=-=-=-=-=-=-=-=-=-=-=-=-=-=-=-=-=-=-=-=-=-=-=-=-=-=-=-=-=-=-=-=-=-=-=\n",
      "O jogador Dudu jogou 3 partidas.\n",
      "Na partida 0, fez 4.\n",
      "Na partida 1, fez 3.\n",
      "Na partida 2, fez 2.\n",
      "Foi um total de 9 gols.\n"
     ]
    }
   ],
   "source": [
    "# Resolução final\n",
    "\n",
    "# Aproveitamento de jogador de futebol\n",
    "jogador1 = {}\n",
    "\n",
    "jogador1['nome'] = str(input('Nome: '))\n",
    "jogador1['qtde partidas'] = int(input('Quantas partidas jogadas: '))\n",
    "\n",
    "# Quantos partidas e gols por partida ? \n",
    "list = []\n",
    "gols = []\n",
    "total = 0\n",
    "for n in range(jogador1['qtde partidas']):\n",
    "    list = int(input(f'Quantos gols na partida {n}: '))\n",
    "    gols.append(list)\n",
    "    total += list\n",
    "jogador1['gols'] = gols\n",
    "jogador1['total'] = total\n",
    "print('-='*50)\n",
    "print(jogador1)\n",
    "print('-='*50)\n",
    "for k, v in jogador1.items():\n",
    "    print(f'O campo {k} tem o valor {v}.')\n",
    "print('-='*50)\n",
    "print(f'O jogador {jogador1[\"nome\"]} jogou {jogador1[\"qtde partidas\"]} partidas.')\n",
    "for n in range(jogador1['qtde partidas']):\n",
    "    print(f'Na partida {n}, fez {jogador1[\"gols\"][n]}.')\n",
    "print(f'Foi um total de {jogador1[\"total\"]} gols.')"
   ]
  },
  {
   "cell_type": "markdown",
   "id": "85bcf9bf",
   "metadata": {},
   "source": [
    "# Resolucao do Professor"
   ]
  },
  {
   "cell_type": "code",
   "execution_count": 1,
   "id": "6b092759",
   "metadata": {},
   "outputs": [
    {
     "name": "stdout",
     "output_type": "stream",
     "text": [
      "Nome do Jogador: Veiga\n",
      "Quantas partidas Veiga jogou? 4\n",
      "Quantos gols na partida 0? 1\n",
      "Quantos gols na partida 1? 2\n",
      "Quantos gols na partida 2? 3\n",
      "Quantos gols na partida 3? 4\n",
      "-=-=-=-=-=-=-=-=-=-=-=-=-=-=-=-=-=-=-=-=-=-=-=-=-=-=-=-=-=-=\n",
      "{'nome': 'Veiga', 'gols': [1, 2, 3, 4], 'total': 10}\n",
      "-=-=-=-=-=-=-=-=-=-=-=-=-=-=-=-=-=-=-=-=-=-=-=-=-=-=-=-=-=-=\n",
      "O campo nome tem o valor Veiga\n",
      "O campo gols tem o valor [1, 2, 3, 4]\n",
      "O campo total tem o valor 10\n",
      "-=-=-=-=-=-=-=-=-=-=-=-=-=-=-=-=-=-=-=-=-=-=-=-=-=-=-=-=-=-=\n",
      "O jogador Veiga jogou 4 partidas.\n",
      "    => Na partida 0, fez 1 gols.\n",
      "    => Na partida 1, fez 2 gols.\n",
      "    => Na partida 2, fez 3 gols.\n",
      "    => Na partida 3, fez 4 gols.\n",
      "Foi um total de 10 gols.\n"
     ]
    }
   ],
   "source": [
    "jogador = dict()\n",
    "partidas = list()\n",
    "jogador['nome'] = str(input('Nome do Jogador: '))\n",
    "tot = int(input(f'Quantas partidas {jogador[\"nome\"]} jogou? '))\n",
    "for c in range(0, tot):\n",
    "    partidas.append(int(input(f'Quantos gols na partida {c}? ')))\n",
    "jogador['gols'] = partidas[:]\n",
    "jogador['total'] = sum(partidas)\n",
    "print('-='*30)\n",
    "print(jogador)\n",
    "print('-='*30)\n",
    "for k, v in jogador.items():\n",
    "    print(f'O campo {k} tem o valor {v}')\n",
    "print('-=' *30)\n",
    "print(f'O jogador {jogador[\"nome\"]} jogou {len(jogador[\"gols\"])} partidas.')\n",
    "for i, v in enumerate(jogador['gols']):\n",
    "    print(f'    => Na partida {i}, fez {v} gols.')\n",
    "print(f'Foi um total de {jogador[\"total\"]} gols.')"
   ]
  }
 ],
 "metadata": {
  "kernelspec": {
   "display_name": "Python 3 (ipykernel)",
   "language": "python",
   "name": "python3"
  },
  "language_info": {
   "codemirror_mode": {
    "name": "ipython",
    "version": 3
   },
   "file_extension": ".py",
   "mimetype": "text/x-python",
   "name": "python",
   "nbconvert_exporter": "python",
   "pygments_lexer": "ipython3",
   "version": "3.8.9"
  }
 },
 "nbformat": 4,
 "nbformat_minor": 5
}
