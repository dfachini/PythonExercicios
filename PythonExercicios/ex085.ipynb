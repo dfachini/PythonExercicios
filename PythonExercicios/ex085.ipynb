{
 "cells": [
  {
   "cell_type": "code",
   "execution_count": 12,
   "id": "95797be3",
   "metadata": {},
   "outputs": [
    {
     "name": "stdout",
     "output_type": "stream",
     "text": [
      "Digite 1 numero: 9\n",
      "Digite 2 numero: 8\n",
      "Digite 3 numero: 7\n",
      "Digite 4 numero: 6\n",
      "Digite 5 numero: 5\n",
      "Digite 6 numero: 4\n",
      "Digite 7 numero: 3\n",
      "[9, 8, 7, 6, 5, 4, 3]\n",
      "[8, 6, 4]\n",
      "[9, 7, 5, 3]\n"
     ]
    }
   ],
   "source": [
    "# Digitar 7 valores numericos\n",
    "# 2 listas uma de pares e uma de impares\n",
    "# Essas 2 listas terão que estar dentro de uma única lista\n",
    "\n",
    "numtemp = 0\n",
    "lista = []\n",
    "listapares = []\n",
    "listaimpares = []\n",
    "\n",
    "for n in range(0, 7):\n",
    "#     lista.append(int(input(f'Digite {n+1} numero: ')))\n",
    "    numtemp = (int(input(f'Digite {n+1} numero: ')))   #9\n",
    "    lista.append(numtemp)   \n",
    "    if numtemp % 2 == 0:    \n",
    "        listapares.append(numtemp)\n",
    "    if numtemp % 2 == 1:\n",
    "        listaimpares.append(numtemp)\n",
    "print(lista)\n",
    "print(listapares)\n",
    "print(listaimpares)\n"
   ]
  },
  {
   "cell_type": "code",
   "execution_count": 14,
   "id": "20d5647b",
   "metadata": {},
   "outputs": [
    {
     "name": "stdout",
     "output_type": "stream",
     "text": [
      "[[4, 6, 8], [3, 5, 7, 9]]\n"
     ]
    }
   ],
   "source": [
    "# Lista de pares e impares em ordem crescente dentro de outra lista\n",
    "listafinal = []\n",
    "listafinal.append(sorted(listapares[:]))\n",
    "listafinal.append(sorted(listaimpares[:]))\n",
    "print(listafinal)"
   ]
  },
  {
   "cell_type": "markdown",
   "id": "0990b513",
   "metadata": {},
   "source": [
    "# Resolucao do Professor"
   ]
  },
  {
   "cell_type": "code",
   "execution_count": 18,
   "id": "b83b9a08",
   "metadata": {},
   "outputs": [
    {
     "name": "stdout",
     "output_type": "stream",
     "text": [
      "Digite 1 valor: 7\n",
      "Digite 2 valor: 6\n",
      "Digite 3 valor: 5\n",
      "Digite 4 valor: 4\n",
      "Digite 5 valor: 3\n",
      "Digite 6 valor: 2\n",
      "Digite 7 valor: 1\n",
      "=-=-=-=-=-=-=-=-=-=-=-=-=-=-=-=-=-=-=-=-=-=-=-=-=-=-=-=-=-=-\n",
      "Os valores pares digitados foram: [2, 4, 6]\n",
      "Os valores impares digitados foram: [1, 3, 5, 7]\n"
     ]
    }
   ],
   "source": [
    "num = [[], []]\n",
    "valor = 0\n",
    "for c in range(1,8):\n",
    "    valor = int(input(f'Digite {c} valor: '))\n",
    "    if valor % 2 == 0:\n",
    "        num[0].append(valor)\n",
    "    if valor % 2 == 1:\n",
    "        num[1].append(valor)\n",
    "num[0].sort()\n",
    "num[1].sort()\n",
    "print('=-' * 30)\n",
    "print(f'Os valores pares digitados foram: {num[0]}')\n",
    "print(f'Os valores impares digitados foram: {num[1]}')\n"
   ]
  }
 ],
 "metadata": {
  "kernelspec": {
   "display_name": "Python 3 (ipykernel)",
   "language": "python",
   "name": "python3"
  },
  "language_info": {
   "codemirror_mode": {
    "name": "ipython",
    "version": 3
   },
   "file_extension": ".py",
   "mimetype": "text/x-python",
   "name": "python",
   "nbconvert_exporter": "python",
   "pygments_lexer": "ipython3",
   "version": "3.8.9"
  }
 },
 "nbformat": 4,
 "nbformat_minor": 5
}
