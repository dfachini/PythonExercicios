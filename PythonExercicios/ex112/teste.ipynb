{
 "cells": [
  {
   "cell_type": "code",
   "execution_count": 5,
   "id": "3a319c6e",
   "metadata": {},
   "outputs": [
    {
     "ename": "SyntaxError",
     "evalue": "invalid syntax (__init__.py, line 5)",
     "output_type": "error",
     "traceback": [
      "Traceback \u001b[0;36m(most recent call last)\u001b[0m:\n",
      "\u001b[0m  File \u001b[1;32m~/Library/Python/3.9/lib/python/site-packages/IPython/core/interactiveshell.py:3442\u001b[0m in \u001b[1;35mrun_code\u001b[0m\n    exec(code_obj, self.user_global_ns, self.user_ns)\u001b[0m\n",
      "\u001b[0;36m  Cell \u001b[0;32mIn[5], line 3\u001b[0;36m\n\u001b[0;31m    from utilidadescev import dado\u001b[0;36m\n",
      "\u001b[0;36m  File \u001b[0;32m~/Documents/kyndryl/BACKUP_BOX/davidrf_personal/Estudos/OwsHQ/products/python/CursoemVideo/PythonExercicios/ex112/utilidadescev/dado/__init__.py:5\u001b[0;36m\u001b[0m\n\u001b[0;31m    if entrada.isalpha() or entrada == '';\u001b[0m\n\u001b[0m                                         ^\u001b[0m\n\u001b[0;31mSyntaxError\u001b[0m\u001b[0;31m:\u001b[0m invalid syntax\n"
     ]
    }
   ],
   "source": [
    "# import moeda\n",
    "from utilidadescev import moeda\n",
    "from utilidadescev import dado\n",
    "# p = float(input('Digite o preço: R$'))\n",
    "p = dado.leiaDinheiro('Digite o preço: R$')\n",
    "moeda.resumo(p, 80, 35)"
   ]
  }
 ],
 "metadata": {
  "kernelspec": {
   "display_name": "Python 3 (ipykernel)",
   "language": "python",
   "name": "python3"
  },
  "language_info": {
   "codemirror_mode": {
    "name": "ipython",
    "version": 3
   },
   "file_extension": ".py",
   "mimetype": "text/x-python",
   "name": "python",
   "nbconvert_exporter": "python",
   "pygments_lexer": "ipython3",
   "version": "3.9.6"
  }
 },
 "nbformat": 4,
 "nbformat_minor": 5
}
