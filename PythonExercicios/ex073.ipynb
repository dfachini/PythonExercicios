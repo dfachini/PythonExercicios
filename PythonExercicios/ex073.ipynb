{
 "cells": [
  {
   "cell_type": "code",
   "execution_count": 4,
   "id": "50ba6086",
   "metadata": {},
   "outputs": [
    {
     "name": "stdout",
     "output_type": "stream",
     "text": [
      "('Atlético Mineiro', 'Palmeiras', 'Flamengo', 'América Mineiro', 'Corinthians')\n",
      "('Juventude', 'Red Bull', 'Santos', 'São Paulo')\n",
      "['América Mineiro', 'Athletico Paranaense', 'Atlético Goianiense', 'Atlético Mineiro', 'Avaí', 'Botafogo', 'Ceará', 'Chapecoense', 'Corinthians', 'Coritiba', 'Cuiabá ', 'Flamengo', 'Fluminense', 'Fortaleza', 'Internacional', 'Juventude', 'Palmeiras', 'Red Bull', 'Santos', 'São Paulo']\n",
      "A Chapecoense está na posição: 15\n"
     ]
    }
   ],
   "source": [
    "\n",
    "times = ('Atlético Mineiro',\n",
    "'Palmeiras',\n",
    "'Flamengo',\n",
    "'América Mineiro',\n",
    "'Corinthians',\n",
    "'Athletico Paranaense',\n",
    "'Atlético Goianiense',\n",
    "'Avaí',\n",
    "'Botafogo',\n",
    "'Ceará',\n",
    "'Coritiba',\n",
    "'Cuiabá ',\n",
    "'Fluminense',\n",
    "'Fortaleza',\n",
    "'Chapecoense',\n",
    "'Internacional',\n",
    "'Juventude',\n",
    "'Red Bull',\n",
    "'Santos',\n",
    "'São Paulo')\n",
    "\n",
    "# Listar apenas os 5 primeiros colocados \n",
    "print(times[0:5])\n",
    "\n",
    "# Listar os apenas os últimos 4 colocados\n",
    "print(times[16:20])\n",
    "\n",
    "# Listar ordem alfabetica \n",
    "timeOrdenado = sorted(times)\n",
    "print(timeOrdenado)\n",
    "\n",
    "# Qual a posição da Chapecoense?\n",
    "\n",
    "# while time != \"Chapecoense\":\n",
    "#     cont = 0\n",
    "#     for time in times:\n",
    "#         if time == 'Chapecoense':\n",
    "#             cont += 1\n",
    "#             print(\"A Chapecoense está na posição: \", {cont})\n",
    "\n",
    "contador = 0\n",
    "for time in times:\n",
    "    contador += 1\n",
    "    if time == \"Chapecoense\":\n",
    "        print(f\"A Chapecoense está na posição: {contador}\" )"
   ]
  },
  {
   "cell_type": "code",
   "execution_count": 3,
   "id": "2b76de2c",
   "metadata": {},
   "outputs": [
    {
     "name": "stdout",
     "output_type": "stream",
     "text": [
      "-=-=-=-=-=-=-=-=-=-=-=-=-=-=-=\n",
      "Lista de times do Brasileirão: ('Atlético Mineiro', 'Palmeiras', 'Flamengo', 'América Mineiro', 'Corinthians', 'Athletico Paranaense', 'Atlético Goianiense', 'Avaí', 'Botafogo', 'Ceará', 'Coritiba', 'Cuiabá ', 'Fluminense', 'Fortaleza', 'Chapecoense', 'Internacional', 'Juventude', 'Red Bull', 'Santos', 'São Paulo')\n",
      "-=-=-=-=-=-=-=-=-=-=-=-=-=-=-=\n",
      "Os 5 primeiros são ('Atlético Mineiro', 'Palmeiras', 'Flamengo', 'América Mineiro', 'Corinthians')\n",
      "-=-=-=-=-=-=-=-=-=-=-=-=-=-=-=\n",
      "Os 4 últimos são ('Juventude', 'Red Bull', 'Santos', 'São Paulo')\n",
      "-=-=-=-=-=-=-=-=-=-=-=-=-=-=-=\n",
      "Times em ordem alfabética: ['América Mineiro', 'Athletico Paranaense', 'Atlético Goianiense', 'Atlético Mineiro', 'Avaí', 'Botafogo', 'Ceará', 'Chapecoense', 'Corinthians', 'Coritiba', 'Cuiabá ', 'Flamengo', 'Fluminense', 'Fortaleza', 'Internacional', 'Juventude', 'Palmeiras', 'Red Bull', 'Santos', 'São Paulo']\n",
      "-=-=-=-=-=-=-=-=-=-=-=-=-=-=-=\n",
      "A Chapecoense está na 15 posição\n"
     ]
    }
   ],
   "source": [
    "#Resolucao do Professor\n",
    "\n",
    "times = ('Atlético Mineiro',\n",
    "'Palmeiras',\n",
    "'Flamengo',\n",
    "'América Mineiro',\n",
    "'Corinthians',\n",
    "'Athletico Paranaense',\n",
    "'Atlético Goianiense',\n",
    "'Avaí',\n",
    "'Botafogo',\n",
    "'Ceará',\n",
    "'Coritiba',\n",
    "'Cuiabá ',\n",
    "'Fluminense',\n",
    "'Fortaleza',\n",
    "'Chapecoense',\n",
    "'Internacional',\n",
    "'Juventude',\n",
    "'Red Bull',\n",
    "'Santos',\n",
    "'São Paulo')\n",
    "\n",
    "print('-=' * 15)\n",
    "print(f'Lista de times do Brasileirão: {times}')\n",
    "print('-=' * 15)\n",
    "print(f'Os 5 primeiros são {times[0:5]}')\n",
    "print('-=' * 15)\n",
    "print(f'Os 4 últimos são {times[-4:]}')\n",
    "print('-=' * 15)\n",
    "print(f'Times em ordem alfabética: {sorted(times)}')\n",
    "print('-=' * 15)\n",
    "print(f'A Chapecoense está na {times.index(\"Chapecoense\")+1} posição')"
   ]
  },
  {
   "cell_type": "code",
   "execution_count": null,
   "id": "2f442c94",
   "metadata": {},
   "outputs": [],
   "source": []
  }
 ],
 "metadata": {
  "kernelspec": {
   "display_name": "Python 3 (ipykernel)",
   "language": "python",
   "name": "python3"
  },
  "language_info": {
   "codemirror_mode": {
    "name": "ipython",
    "version": 3
   },
   "file_extension": ".py",
   "mimetype": "text/x-python",
   "name": "python",
   "nbconvert_exporter": "python",
   "pygments_lexer": "ipython3",
   "version": "3.8.9"
  }
 },
 "nbformat": 4,
 "nbformat_minor": 5
}
