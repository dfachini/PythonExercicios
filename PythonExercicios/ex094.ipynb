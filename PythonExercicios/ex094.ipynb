{
 "cells": [
  {
   "cell_type": "code",
   "execution_count": 11,
   "id": "757aa72d",
   "metadata": {},
   "outputs": [
    {
     "name": "stdout",
     "output_type": "stream",
     "text": [
      "Nome: David\n",
      "Sexo [M/F]: m\n",
      "Idade: 35\n"
     ]
    }
   ],
   "source": [
    "# \n",
    "\n",
    "cadastro = {}\n",
    "grupo = []\n",
    "cadastro['nome'] = str(input('Nome: '))\n",
    "cadastro['sexo'] = str(input('Sexo [M/F]: ')).upper()\n",
    "cadastro['idade'] = int(input('Idade: '))\n",
    "grupo.append(cadastro.copy())"
   ]
  },
  {
   "cell_type": "code",
   "execution_count": 12,
   "id": "be2741c8",
   "metadata": {},
   "outputs": [
    {
     "name": "stdout",
     "output_type": "stream",
     "text": [
      "Quer continuar? [S/N] s\n",
      "Nome: Juliana\n",
      "Sexo [M/F]: f\n",
      "Idade: 36\n",
      "Quer continuar? [S/N] s\n",
      "Nome: Isabela\n",
      "Sexo [M/F]: f\n",
      "Idade: 24\n",
      "Quer continuar? [S/N] n\n",
      "-=-=-=-=-=-=-=-=-=-=-=-=-=-=-=-=-=-=-=-=-=-=-=-=-=-=-=-=-=-=-=-=-=-=-=-=-=-=-=-=-=-=-=-=-=-=-=-=-=-=\n",
      "O grupo tem len(cadastro[\"nome\"])\n"
     ]
    }
   ],
   "source": [
    "resp = str(input('Quer continuar? [S/N] '))\n",
    "while resp in 'Ss':\n",
    "    cadastro['nome'] = str(input('Nome: '))\n",
    "    cadastro['sexo'] = str(input('Sexo [M/F]: ')).upper()\n",
    "    cadastro['idade'] = int(input('Idade: '))\n",
    "    resp = str(input('Quer continuar? [S/N] '))\n",
    "    grupo.append(cadastro.copy())\n",
    "    if resp in 'nN':\n",
    "        break\n",
    "print('-='*50)\n",
    "print(f'O grupo tem {len(cadastro[\"nome\"])}')"
   ]
  },
  {
   "cell_type": "code",
   "execution_count": 30,
   "id": "faef41b3",
   "metadata": {},
   "outputs": [
    {
     "name": "stdout",
     "output_type": "stream",
     "text": [
      "O grupo tem 3 pessoas.\n"
     ]
    }
   ],
   "source": [
    "print(f'O grupo tem {len(grupo)} pessoas.')"
   ]
  },
  {
   "cell_type": "code",
   "execution_count": 87,
   "id": "33afc26c",
   "metadata": {},
   "outputs": [
    {
     "name": "stdout",
     "output_type": "stream",
     "text": [
      "A média de idade é de 31.666666666666668\n"
     ]
    }
   ],
   "source": [
    "sum = 0\n",
    "for i in grupo:\n",
    "    sum += int((i['idade']))\n",
    "print(f'A média de idade é de {sum / len(grupo)} anos.')"
   ]
  },
  {
   "cell_type": "code",
   "execution_count": 99,
   "id": "16a75280",
   "metadata": {},
   "outputs": [
    {
     "name": "stdout",
     "output_type": "stream",
     "text": [
      "As mulheres cadastradas foram: ['Juliana', 'Isabela']\n"
     ]
    }
   ],
   "source": [
    "mulher = []\n",
    "\n",
    "for i in grupo:\n",
    "    if i['sexo'] == 'F':\n",
    "         mulher.append(i['nome'])\n",
    "\n",
    "print(f'As mulheres cadastradas foram: {mulher}')"
   ]
  },
  {
   "cell_type": "code",
   "execution_count": 100,
   "id": "b9e63a50",
   "metadata": {},
   "outputs": [
    {
     "name": "stdout",
     "output_type": "stream",
     "text": [
      "Lista das pessoas que estão acima da média:\n",
      " nome = David; sexo = M; idade = 35\n",
      " nome = Juliana; sexo = F; idade = 36\n"
     ]
    }
   ],
   "source": [
    "print(f'Lista das pessoas que estão acima da média:')\n",
    "for i in grupo:\n",
    "    if i['idade'] > (sum / len(grupo)):\n",
    "        print(f' nome = {i[\"nome\"]}; sexo = {i[\"sexo\"]}; idade = {i[\"idade\"]}')"
   ]
  },
  {
   "cell_type": "code",
   "execution_count": 21,
   "id": "1958e21a",
   "metadata": {},
   "outputs": [
    {
     "name": "stdout",
     "output_type": "stream",
     "text": [
      "[{'nome': 'David', 'sexo': 'M', 'idade': 35}, {'nome': 'Juliana', 'sexo': 'F', 'idade': 36}, {'nome': 'Isabela', 'sexo': 'F', 'idade': 24}]\n"
     ]
    }
   ],
   "source": [
    "print(grupo)"
   ]
  },
  {
   "cell_type": "markdown",
   "id": "cd171973",
   "metadata": {},
   "source": [
    "# Resolução do Professor"
   ]
  },
  {
   "cell_type": "code",
   "execution_count": null,
   "id": "5747dfcd",
   "metadata": {},
   "outputs": [
    {
     "name": "stdout",
     "output_type": "stream",
     "text": [
      "Nome: David\n",
      "Sexo: [M/F] R\n",
      "ERRO! Por favor, digite apenas M ou F.\n"
     ]
    }
   ],
   "source": [
    "pessoa = dict()\n",
    "galera = list()\n",
    "soma = media = 0\n",
    "while True:\n",
    "    pessoa.clear()    #limpa a lista para receber novos valores\n",
    "    pessoa['nome'] = str(input('Nome: '))\n",
    "    while True:\n",
    "        pessoa['sexo'] = str(input('Sexo: [M/F] ')).upper()[0]\n",
    "        if pessoa['sexo'] in 'MF':\n",
    "            break\n",
    "        print('ERRO! Por favor, digite apenas M ou F.')\n",
    "    pessoa['idade'] = int(input('Idade: '))\n",
    "    soma += pessoa['idade']\n",
    "    galera.append(pessoa.copy())\n",
    "    while True:\n",
    "        resp = str(input('Quer continuar? [S/N] ')).upper()[0]\n",
    "        if resp in 'SN':\n",
    "            break\n",
    "        print('ERRO! Responda apenas S ou N.')\n",
    "    if resp == 'N':\n",
    "        break\n",
    "print('-='*30)\n",
    "print(f'A) Ao todo temos {len(galera)} pessoas cadastradas.')\n",
    "media = soma / len(galera)\n",
    "print(f'B) A média de idade é de {media:5.2f} anos.')\n",
    "print('C) As mulheres cadastradas foram ', end='')\n",
    "for p in galera:\n",
    "    if p['sexo'] in 'Ff':\n",
    "        print(f'{p[\"nome\"]} ', end='')\n",
    "print()\n",
    "print('D) Lista das pessoas que estão acima da média: ')\n",
    "for p in galera:\n",
    "    if p['idade'] >= media:\n",
    "        print('     ', end='')\n",
    "        for k, v in p.items():\n",
    "            print(f'{k} = {v}; ', end='')\n",
    "        print()\n",
    "print('<< ENCERRADO >>')"
   ]
  }
 ],
 "metadata": {
  "kernelspec": {
   "display_name": "Python 3 (ipykernel)",
   "language": "python",
   "name": "python3"
  },
  "language_info": {
   "codemirror_mode": {
    "name": "ipython",
    "version": 3
   },
   "file_extension": ".py",
   "mimetype": "text/x-python",
   "name": "python",
   "nbconvert_exporter": "python",
   "pygments_lexer": "ipython3",
   "version": "3.8.9"
  }
 },
 "nbformat": 4,
 "nbformat_minor": 5
}
