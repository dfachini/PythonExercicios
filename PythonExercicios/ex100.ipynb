{
 "cells": [
  {
   "cell_type": "code",
   "execution_count": 740,
   "id": "4ea5c703",
   "metadata": {},
   "outputs": [],
   "source": [
    "#Funcao numeros aleatorios e soma pares\n",
    "from random import randint \n",
    "from time import sleep \n",
    "numeros = []\n",
    "\n",
    "def sorteia():\n",
    "    print(f'Sorteando 5 valores da lista: ', end='')\n",
    "    for i in range(0,5):\n",
    "        num = randint(1,100)\n",
    "        print(f'{num}', end=' ')\n",
    "        numeros.append(num)\n",
    "        sleep(1)\n",
    "    totaln = numeros[:]\n",
    "    numeros.clear()\n",
    "    print(f'PRONTO!')\n",
    "    return totaln\n",
    "\n",
    "def somaPar(totalnum):\n",
    "    nLista = []\n",
    "    total = 0\n",
    "    print('Soma os valores pares: ',end='')\n",
    "    for i in totalnum:\n",
    "        if (i%2)==0:\n",
    "            nLista.append(i)\n",
    "            total += i\n",
    "        contador = 1\n",
    "    for n in nLista:\n",
    "        print(n,end=' ')\n",
    "        if contador < (len(nLista)):\n",
    "            print('+', end=' ')\n",
    "            contador += 1\n",
    "    print('= Total:',end=' ')\n",
    "    print(f'{total}')\n",
    "    "
   ]
  },
  {
   "cell_type": "code",
   "execution_count": 742,
   "id": "0886df2d",
   "metadata": {},
   "outputs": [
    {
     "name": "stdout",
     "output_type": "stream",
     "text": [
      "Sorteando 5 valores da lista: 90 41 46 71 95 PRONTO!\n",
      "Soma os valores pares: 90 + 46 = Total:  136\n"
     ]
    }
   ],
   "source": [
    "somaPar(sorteia())"
   ]
  },
  {
   "cell_type": "markdown",
   "id": "8c495fa9",
   "metadata": {},
   "source": [
    "# Resolução do Professor"
   ]
  },
  {
   "cell_type": "code",
   "execution_count": 758,
   "id": "897061cc",
   "metadata": {},
   "outputs": [
    {
     "name": "stdout",
     "output_type": "stream",
     "text": [
      "Sorteando 5 valores da lista: 4 9 9 4 10 PRONTO!\n",
      "Somando os valores pares de [4, 9, 9, 4, 10], temos 18\n"
     ]
    }
   ],
   "source": [
    "from random import randint\n",
    "from time import sleep\n",
    "\n",
    "\n",
    "def sorteia(lista):\n",
    "    print('Sorteando 5 valores da lista: ', end='')\n",
    "    for cont in range(0, 5):\n",
    "        n = randint(1, 10)\n",
    "        lista.append(n)\n",
    "        print(f'{n} ', end='', flush=True)\n",
    "        sleep(0.3)\n",
    "    print('PRONTO!')\n",
    "    \n",
    "\n",
    "def somaPar(lista):\n",
    "    soma = 0\n",
    "    for valor in lista:\n",
    "        if valor % 2 == 0:\n",
    "            soma += valor\n",
    "    print(f'Somando os valores pares de {lista}, temos {soma}')\n",
    "    \n",
    "# Programa Principal\n",
    "numeros = list()\n",
    "sorteia(numeros)\n",
    "somaPar(numeros)"
   ]
  }
 ],
 "metadata": {
  "kernelspec": {
   "display_name": "Python 3 (ipykernel)",
   "language": "python",
   "name": "python3"
  },
  "language_info": {
   "codemirror_mode": {
    "name": "ipython",
    "version": 3
   },
   "file_extension": ".py",
   "mimetype": "text/x-python",
   "name": "python",
   "nbconvert_exporter": "python",
   "pygments_lexer": "ipython3",
   "version": "3.8.9"
  }
 },
 "nbformat": 4,
 "nbformat_minor": 5
}
