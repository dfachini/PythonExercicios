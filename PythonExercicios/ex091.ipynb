{
 "cells": [
  {
   "cell_type": "code",
   "execution_count": 102,
   "id": "25417284",
   "metadata": {},
   "outputs": [
    {
     "name": "stdout",
     "output_type": "stream",
     "text": [
      "2, 3, 4, 2, "
     ]
    }
   ],
   "source": [
    "# Exercicio dos dados \n",
    "\n",
    "from random import randint\n",
    "\n",
    "jogadores = {}\n",
    "ranking = {}\n",
    "\n",
    "for i in range(1,5):\n",
    "    dado = randint(1,6)\n",
    "    player['j'] = \n",
    "    print(dado, end = ', ')"
   ]
  },
  {
   "cell_type": "code",
   "execution_count": 7,
   "id": "2e26a23e",
   "metadata": {},
   "outputs": [],
   "source": [
    "jogadores = {'jogador1': '2', 'jogador2': '3'}"
   ]
  },
  {
   "cell_type": "code",
   "execution_count": 19,
   "id": "860a3bcb",
   "metadata": {},
   "outputs": [
    {
     "name": "stdout",
     "output_type": "stream",
     "text": [
      "jogador1\n",
      "jogador2\n",
      "jogador3\n",
      "jogador4\n"
     ]
    }
   ],
   "source": [
    "for i in range(1,5):\n",
    "    print(f'jogador{i}')\n"
   ]
  },
  {
   "cell_type": "markdown",
   "id": "f5cc4faf",
   "metadata": {},
   "source": [
    "# Resolução do Professor"
   ]
  },
  {
   "cell_type": "code",
   "execution_count": 3,
   "id": "1a347b3d",
   "metadata": {},
   "outputs": [
    {
     "name": "stdout",
     "output_type": "stream",
     "text": [
      "Valores sorteados:\n",
      "jogador1 tirou 2 no dado.\n",
      "jogador2 tirou 1 no dado.\n",
      "jogador3 tirou 5 no dado.\n",
      "jogador4 tirou 4 no dado.\n",
      "-=-=-=-=-=-=-=-=-=-=-=-=-=-=-=-=-=-=-=-=-=-=-=-=-=-=-=-=-=-=\n",
      "== RANKING DOS JOGADORES ==\n",
      "1 lugar: jogador3 com 5\n",
      "2 lugar: jogador4 com 4\n",
      "3 lugar: jogador1 com 2\n",
      "4 lugar: jogador2 com 1\n"
     ]
    }
   ],
   "source": [
    "from random import randint\n",
    "from time import sleep\n",
    "from operator import itemgetter\n",
    "\n",
    "jogo = {'jogador1': randint(1,6),\n",
    "        'jogador2': randint(1,6),\n",
    "        'jogador3': randint(1,6),\n",
    "        'jogador4': randint(1,6)}\n",
    "ranking = list()\n",
    "print('Valores sorteados:')\n",
    "for k, v in jogo.items():\n",
    "    print(f'{k} tirou {v} no dado.')\n",
    "    sleep(1)\n",
    "ranking = sorted(jogo.items(), key=itemgetter(1), reverse=True)\n",
    "print('-=' * 30)\n",
    "print('== RANKING DOS JOGADORES ==')\n",
    "for i, v in enumerate(ranking):\n",
    "    print(f'{i+1} lugar: {v[0]} com {v[1]}')"
   ]
  },
  {
   "cell_type": "code",
   "execution_count": null,
   "id": "a1011c81",
   "metadata": {},
   "outputs": [],
   "source": []
  }
 ],
 "metadata": {
  "kernelspec": {
   "display_name": "Python 3 (ipykernel)",
   "language": "python",
   "name": "python3"
  },
  "language_info": {
   "codemirror_mode": {
    "name": "ipython",
    "version": 3
   },
   "file_extension": ".py",
   "mimetype": "text/x-python",
   "name": "python",
   "nbconvert_exporter": "python",
   "pygments_lexer": "ipython3",
   "version": "3.8.9"
  }
 },
 "nbformat": 4,
 "nbformat_minor": 5
}
