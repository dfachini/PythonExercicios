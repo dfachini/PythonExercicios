{
 "cells": [
  {
   "cell_type": "code",
   "execution_count": 54,
   "id": "8986c89b",
   "metadata": {},
   "outputs": [],
   "source": [
    "def notas(*n, sit=False):\n",
    "    \"\"\"\n",
    "    -> Função ...\n",
    "    :param n:\n",
    "    :parm sit: \n",
    "    :return: \n",
    "    \"\"\"\n",
    "    dic = dict()\n",
    "    dic = n\n",
    "    dic2 = {'total': len(dic), 'maior': sorted(dic)[-1], 'menor': sorted(dic)[0], 'média': sum(dic) / len(dic)}\n",
    "    return dic2\n",
    "\n"
   ]
  },
  {
   "cell_type": "code",
   "execution_count": 56,
   "id": "5ceabaca",
   "metadata": {},
   "outputs": [
    {
     "name": "stdout",
     "output_type": "stream",
     "text": [
      "<class 'dict'>\n",
      "{'total': 6, 'maior': 6, 'menor': 2, 'média': 4.0}\n"
     ]
    }
   ],
   "source": [
    "resp = notas(4,2,3,4,5,6)\n",
    "print(type(resp))\n",
    "print(resp)\n",
    "# help(notas)"
   ]
  },
  {
   "cell_type": "code",
   "execution_count": 29,
   "id": "b140b18a",
   "metadata": {},
   "outputs": [
    {
     "name": "stdout",
     "output_type": "stream",
     "text": [
      "4\n",
      "{1, 10, 3, 4.5}\n",
      "1\n",
      "10\n",
      "18.5\n",
      "9.25\n"
     ]
    }
   ],
   "source": [
    "dic = {10,4.5,1,3}\n",
    "print(len(dic)) # Total\n",
    "print(dic)\n",
    "print(sorted(dic)[0]) # menor\n",
    "print(sorted(dic)[-1]) # maior\n",
    "print(sum(dic)) # soma\n",
    "print(sum(dic) / 2) # média\n",
    "media = sum(dic) / 2\n",
    "if media > 7:\n",
    "    sit = True\n",
    "    \n"
   ]
  },
  {
   "cell_type": "markdown",
   "id": "b28e85d8",
   "metadata": {},
   "source": [
    "# Resolução do Professor"
   ]
  },
  {
   "cell_type": "code",
   "execution_count": 16,
   "id": "e952c45d",
   "metadata": {},
   "outputs": [],
   "source": [
    "def notas(*n, sit=False):\n",
    "    \"\"\"\n",
    "    -> Função para analisar notas e situações de vários alunos.\n",
    "    :param n: uma ou mais notas dos alunos (aceita várias)\n",
    "    :param sit: valor opcional, indicando se deve ou não adicionar a situação\n",
    "    :return: dicionário com várias informações sobre a situação da turma.\n",
    "    \"\"\"\n",
    "    r = dict()\n",
    "    r['total'] = len(n)\n",
    "    r['maior'] = max(n)\n",
    "    r['menor'] = min(n)\n",
    "    r['media'] = sum(n)/len(n)\n",
    "    if sit:                      #Se situação for verdadeira\n",
    "        if r['media'] > 7:\n",
    "            r['situacao'] = 'BOA'\n",
    "        elif r['media'] >= 5:\n",
    "            r['situacao'] = 'RAZOAVEL'\n",
    "        else:\n",
    "            r['situacao'] = 'RUIM'\n",
    "        \n",
    "    return r"
   ]
  },
  {
   "cell_type": "code",
   "execution_count": 18,
   "id": "a8b1648e",
   "metadata": {},
   "outputs": [
    {
     "name": "stdout",
     "output_type": "stream",
     "text": [
      "{'total': 4, 'maior': 10, 'menor': 1.5, 'media': 3.875, 'situacao': 'RUIM'}\n"
     ]
    }
   ],
   "source": [
    "# Programa Principal\n",
    "\n",
    "resp = notas(1.5, 2.5, 1.5,10,sit=True)\n",
    "print(resp)\n",
    "# help(notas)"
   ]
  }
 ],
 "metadata": {
  "kernelspec": {
   "display_name": "Python 3 (ipykernel)",
   "language": "python",
   "name": "python3"
  },
  "language_info": {
   "codemirror_mode": {
    "name": "ipython",
    "version": 3
   },
   "file_extension": ".py",
   "mimetype": "text/x-python",
   "name": "python",
   "nbconvert_exporter": "python",
   "pygments_lexer": "ipython3",
   "version": "3.9.6"
  }
 },
 "nbformat": 4,
 "nbformat_minor": 5
}
