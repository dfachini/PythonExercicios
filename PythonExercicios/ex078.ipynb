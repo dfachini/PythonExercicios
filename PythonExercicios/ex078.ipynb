{
 "cells": [
  {
   "cell_type": "code",
   "execution_count": 40,
   "id": "1d1576b9",
   "metadata": {},
   "outputs": [
    {
     "name": "stdout",
     "output_type": "stream",
     "text": [
      "Digite um valor: 5\n",
      "Digite um valor: 4\n",
      "Digite um valor: 6\n",
      "Digite um valor: 2\n",
      "Digite um valor: 1\n",
      "['5', '4', '6', '2', '1']\n",
      "O 6 é o maior valor e está na 3 posição\n",
      "O 1 é o menor valor e está na 5 posição\n"
     ]
    }
   ],
   "source": [
    "# 5 valores em uma lista\n",
    "# O maior e a posicao\n",
    "# O menor e a posicao\n",
    "valores = []\n",
    "for v in range(0, 5):\n",
    "    valores.append(input('Digite um valor: '))\n",
    "print(valores)\n",
    "posicao = 1\n",
    "for maior in valores: \n",
    "    if maior == (max(valores)): \n",
    "        print(f'O {(max(valores))} é o maior valor e está na {posicao} posição')\n",
    "    else:\n",
    "        posicao +=1 \n",
    "\n",
    "posicaomenor = 1\n",
    "for menor in valores:\n",
    "    if menor == (min(valores)):\n",
    "        print(f'O {(min(valores))} é o menor valor e está na {posicaomenor} posição')\n",
    "    else:\n",
    "        posicaomenor +=1"
   ]
  },
  {
   "cell_type": "code",
   "execution_count": 7,
   "id": "86653dfb",
   "metadata": {},
   "outputs": [
    {
     "name": "stdout",
     "output_type": "stream",
     "text": [
      "Digite um valor para a Posição 0: 1\n",
      "Digite um valor para a Posição 1: 1\n",
      "Digite um valor para a Posição 2: 2\n",
      "Digite um valor para a Posição 3: 9\n",
      "Digite um valor para a Posição 4: 3\n",
      "=-=-=-=-=-=-=-=-=-=-=-=-=-=-=-=-=-=-=-=-=-=-=-=-=-=-=-=-=-=-\n",
      "Você digitou os valores [1, 1, 2, 9, 3]\n",
      "O maior valor digitado foi 9 nas posicoes 3... \n",
      "O menor valor digitado foi 1 nas posições 0... 1... "
     ]
    }
   ],
   "source": [
    "# Resolução do professor\n",
    "\n",
    "listanum = []\n",
    "mai = 0\n",
    "men = 0\n",
    "for c in range(0,5):\n",
    "    listanum.append(int(input(f'Digite um valor para a Posição {c}: ')))\n",
    "    if c == 0:\n",
    "        mai = men = listanum[c]\n",
    "    else:\n",
    "        if listanum[c] > mai:\n",
    "            mai = listanum[c]\n",
    "        if listanum[c] < men:\n",
    "            men = listanum[c]\n",
    "print('=-'*30)\n",
    "print(f'Você digitou os valores {listanum}')\n",
    "print(f'O maior valor digitado foi {mai} nas posicoes ', end='')\n",
    "for i, v in enumerate(listanum):\n",
    "    if v == mai:\n",
    "        print(f'{i}... ', end='')\n",
    "print()\n",
    "print(f'O menor valor digitado foi {men} nas posições ', end='')\n",
    "for i, v in enumerate(listanum):\n",
    "    if v == men:\n",
    "        print(f'{i}... ', end='')\n",
    "print()"
   ]
  }
 ],
 "metadata": {
  "kernelspec": {
   "display_name": "Python 3 (ipykernel)",
   "language": "python",
   "name": "python3"
  },
  "language_info": {
   "codemirror_mode": {
    "name": "ipython",
    "version": 3
   },
   "file_extension": ".py",
   "mimetype": "text/x-python",
   "name": "python",
   "nbconvert_exporter": "python",
   "pygments_lexer": "ipython3",
   "version": "3.8.9"
  }
 },
 "nbformat": 4,
 "nbformat_minor": 5
}
