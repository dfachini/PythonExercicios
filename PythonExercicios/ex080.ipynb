{
 "cells": [
  {
   "cell_type": "markdown",
   "id": "9e9287d9",
   "metadata": {},
   "source": [
    "# Digitar 5 valores numeros \n",
    "# Cadastrar em uma lista\n",
    "# Na posicao correta (sem usar sort)\n"
   ]
  },
  {
   "cell_type": "code",
   "execution_count": 2,
   "id": "2b18d97f",
   "metadata": {},
   "outputs": [
    {
     "name": "stdout",
     "output_type": "stream",
     "text": [
      "Digite um valor: 5\n",
      "Digite um valor: 2\n",
      "Digite um valor: 3\n",
      "Digite um valor: 9\n",
      "Digite um valor: 10\n",
      "[2, 3, 5, 9, 10]\n"
     ]
    }
   ],
   "source": [
    "# Digitar 5 valores numeros \n",
    "# Cadastrar em uma lista\n",
    "# Na posicao correta (sem usar sort)\n",
    "\n",
    "l_valores = []\n",
    "l_final = []\n",
    "valor = 0\n",
    "\n",
    "\n",
    "for l in range(0,5):\n",
    "    valor = (int(input('Digite um valor: ')))\n",
    "    l_valores.append(valor)\n",
    "while l_valores:\n",
    "    menor = l_valores[0]\n",
    "    for busca in l_valores:\n",
    "        if busca < menor:\n",
    "            menor = busca\n",
    "    l_final.append(menor)\n",
    "    l_valores.remove(menor)\n",
    "    \n",
    "    \n",
    "print(l_final)"
   ]
  },
  {
   "cell_type": "code",
   "execution_count": 7,
   "id": "6334ee58",
   "metadata": {},
   "outputs": [
    {
     "name": "stdout",
     "output_type": "stream",
     "text": [
      "Digite um valor: 10\n",
      "Adicionado ao final da lista\n",
      "Digite um valor: 3\n",
      "Adicionado na posição 0 da lista\n",
      "Digite um valor: 2\n",
      "Adicionado na posição 0 da lista\n",
      "Digite um valor: 5\n",
      "Adicionado na posição 2 da lista\n",
      "Digite um valor: 7\n",
      "Adicionado na posição 3 da lista\n",
      "=-=-=-=-=-=-=-=-=-=-=-=-=-=-=-=-=-=-=-=-=-=-=-=-=-=-=-=-=-=-\n",
      "Os valores digitados em ordem foram [2, 3, 5, 7, 10]\n"
     ]
    }
   ],
   "source": [
    "#### Resolução do Professor\n",
    "\n",
    "lista = []\n",
    "for c in range(0, 5):\n",
    "    n = int(input('Digite um valor: '))\n",
    "    if c == 0 or n > lista[-1]:       #Se é o primeiro ou maior que o último\n",
    "        lista.append(n)\n",
    "        print('Adicionado ao final da lista ...')\n",
    "    else:\n",
    "        pos = 0\n",
    "        while pos < len(lista):\n",
    "            if n <= lista[pos]:\n",
    "                lista.insert(pos, n)\n",
    "                print(f'Adicionado na posição {pos} da lista ...')\n",
    "                break\n",
    "            pos += 1\n",
    "print('=-'*30)\n",
    "print(f'Os valores digitados em ordem foram {lista}')"
   ]
  },
  {
   "cell_type": "code",
   "execution_count": 1,
   "id": "94866258",
   "metadata": {},
   "outputs": [],
   "source": [
    "\n"
   ]
  }
 ],
 "metadata": {
  "kernelspec": {
   "display_name": "Python 3 (ipykernel)",
   "language": "python",
   "name": "python3"
  },
  "language_info": {
   "codemirror_mode": {
    "name": "ipython",
    "version": 3
   },
   "file_extension": ".py",
   "mimetype": "text/x-python",
   "name": "python",
   "nbconvert_exporter": "python",
   "pygments_lexer": "ipython3",
   "version": "3.8.9"
  }
 },
 "nbformat": 4,
 "nbformat_minor": 5
}
