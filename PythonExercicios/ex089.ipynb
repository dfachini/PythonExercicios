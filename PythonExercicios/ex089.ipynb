{
 "cells": [
  {
   "cell_type": "code",
   "execution_count": 1,
   "id": "2f1eb1dc",
   "metadata": {},
   "outputs": [],
   "source": [
    "# Leia Nome e 2 notas\n",
    "# Guardar dentro de uma lista composta (3 níveis)  - ['NOME', [NOTA1, NOTA2], MEDIA]\n",
    "# Mostrar o Boletim contendo a média\n",
    "# Permitir ver as notas de determinado aluno"
   ]
  },
  {
   "cell_type": "code",
   "execution_count": 4,
   "id": "dac4b046",
   "metadata": {},
   "outputs": [
    {
     "name": "stdout",
     "output_type": "stream",
     "text": [
      "Nome: David\n",
      "Nota 1: 2\n",
      "Nota 2: 3\n",
      "Quer continuar? [S/N]: S\n",
      "Nome: Isabela\n",
      "Nota 1: 5\n",
      "Nota 2: 6\n",
      "Quer continuar? [S/N]: S\n",
      "Nome: Vinicius\n",
      "Nota 1: 7\n",
      "Nota 2: 8\n",
      "Quer continuar? [S/N]: N\n",
      "-=-=-=-=-=-=-=-=-=-=-=-=-=-=-=-=-=-=-=-=-=-=-=-=-=-=-=-=-=-=\n",
      "No. NOME         MEDIA\n",
      "--------------------------\n",
      "0   David          2.5\n",
      "1   Isabela        5.5\n",
      "2   Vinicius       7.5\n",
      "-----------------------------------\n",
      "Mostrar notas de qual aluno? (999 interrompe): 2\n",
      "Notas de Vinicius são [7.0, 8.0]\n",
      "-----------------------------------\n",
      "Mostrar notas de qual aluno? (999 interrompe): 0\n",
      "Notas de David são [2.0, 3.0]\n",
      "-----------------------------------\n",
      "Mostrar notas de qual aluno? (999 interrompe): 999\n",
      "FINALIZANDO...\n",
      "<<< VOLTE SEMPRE! >>>\n"
     ]
    }
   ],
   "source": [
    "ficha = list()\n",
    "while True:\n",
    "    nome = str(input('Nome: '))\n",
    "    nota1 = float(input('Nota 1: '))\n",
    "    nota2 = float(input('Nota 2: '))\n",
    "    media = (nota1 + nota2) / 2\n",
    "    ficha.append([nome, [nota1, nota2], media])\n",
    "    resp = str(input('Quer continuar? [S/N]: '))\n",
    "    if resp in 'Nn':\n",
    "        break\n",
    "print('-='*30)\n",
    "print(f'{\"No.\":<4}{\"NOME\":<10}{\"MEDIA\":>8}')\n",
    "print('-'*26)\n",
    "for i, a in enumerate(ficha):\n",
    "    print(f'{i:<4}{a[0]:<10}{a[2]:>8.1f}')     # a[0] = nome , a[2] = nota1, nota2\n",
    "while True:\n",
    "    print('-'*35)\n",
    "    opc = int(input('Mostrar notas de qual aluno? (999 interrompe): '))\n",
    "    if opc == 999:\n",
    "        print('FINALIZANDO...')\n",
    "        break\n",
    "    if opc <= len(ficha):\n",
    "        print(f'Notas de {ficha[opc][0]} são {ficha[opc][1]}')\n",
    "print('<<< VOLTE SEMPRE! >>>')"
   ]
  }
 ],
 "metadata": {
  "kernelspec": {
   "display_name": "Python 3 (ipykernel)",
   "language": "python",
   "name": "python3"
  },
  "language_info": {
   "codemirror_mode": {
    "name": "ipython",
    "version": 3
   },
   "file_extension": ".py",
   "mimetype": "text/x-python",
   "name": "python",
   "nbconvert_exporter": "python",
   "pygments_lexer": "ipython3",
   "version": "3.8.9"
  }
 },
 "nbformat": 4,
 "nbformat_minor": 5
}
