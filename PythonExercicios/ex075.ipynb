{
 "cells": [
  {
   "cell_type": "code",
   "execution_count": 50,
   "id": "d2fb1aff",
   "metadata": {},
   "outputs": [
    {
     "name": "stdout",
     "output_type": "stream",
     "text": [
      "9\n",
      "9\n",
      "3\n",
      "3\n",
      "(9, 9, 3, 3)\n"
     ]
    }
   ],
   "source": [
    "# Ler 4 valores e armazene numa tupla \n",
    "A = int(input())\n",
    "B = int(input())\n",
    "C = int(input())\n",
    "D = int(input())\n",
    "\n",
    "tuplaNum = (A, B, C, D)\n",
    "print(tuplaNum)"
   ]
  },
  {
   "cell_type": "code",
   "execution_count": 21,
   "id": "70912d12",
   "metadata": {},
   "outputs": [
    {
     "name": "stdout",
     "output_type": "stream",
     "text": [
      "O 3 apareceu na posicão 1\n",
      "9 apareceu: 1 vezes.\n"
     ]
    }
   ],
   "source": [
    "# Quantas vezes apareceu o valor 9 e qual a posicao do 3?\n",
    "cont = 0\n",
    "posicoes = 0 \n",
    "for i in tuplaNum:\n",
    "    if i == 9:\n",
    "        cont += 1\n",
    "    if tuplaNum[posicoes] == 3:\n",
    "        print(f\"O 3 apareceu na posicão {posicoes}\")\n",
    "    posicoes += 1\n",
    "print(f\"9 apareceu: {cont} vezes.\")"
   ]
  },
  {
   "cell_type": "code",
   "execution_count": 51,
   "id": "c11981eb",
   "metadata": {},
   "outputs": [
    {
     "name": "stdout",
     "output_type": "stream",
     "text": [
      "O 3 apareceu na posicão 2\n",
      "O 3 apareceu na posicão 3\n",
      "9 apareceu: 2 vezes.\n"
     ]
    }
   ],
   "source": [
    "# Quantas vezes apareceu o valor 9, qual a posicao do 3 e quais os pares?\n",
    "cont = 0\n",
    "posicoes = 0 \n",
    "for i in tuplaNum:\n",
    "    if i == 9:\n",
    "        cont += 1\n",
    "    if tuplaNum[posicoes] == 3:\n",
    "        print(f\"O 3 apareceu na posicão {posicoes}\")\n",
    "    if tuplaNum[posicoes]%2 == 0:\n",
    "        print(f\" Os Pares são: {tuplaNum[posicoes]}\")\n",
    "    posicoes += 1\n",
    "print(f\"9 apareceu: {cont} vezes.\")"
   ]
  },
  {
   "cell_type": "code",
   "execution_count": 7,
   "id": "47c3cfbc",
   "metadata": {},
   "outputs": [
    {
     "name": "stdout",
     "output_type": "stream",
     "text": [
      "Digite um número: 1\n",
      "Digite outro número: 2\n",
      "Digite mais um número: 3\n",
      "Digite o último número: 9\n",
      "Você digitou os valores (1, 2, 3, 9)\n",
      "O valor 9 apareceu 1 vezes\n",
      "O valor 3 apareceu na 3 posição\n",
      "Os valores pares digitados foram 2"
     ]
    }
   ],
   "source": [
    "# Resolucao do Professor\n",
    "\n",
    "num = (int(input('Digite um número: ')),\n",
    "       int(input('Digite outro número: ')),\n",
    "       int(input('Digite mais um número: ')),\n",
    "       int(input('Digite o último número: ')))\n",
    "print(f'Você digitou os valores {num}')\n",
    "print(f'O valor 9 apareceu {num.count(9)} vezes')\n",
    "if 3 in num:\n",
    "    print(f'O valor 3 apareceu na {num.index(3)+1} posição')\n",
    "else:\n",
    "    print('O valor 3 não foi digitado em nenhuma posição')\n",
    "print('Os valores pares digitados foram ', end='')\n",
    "for n in num:\n",
    "    if n % 2 == 0:\n",
    "        print(n, end='')"
   ]
  },
  {
   "cell_type": "code",
   "execution_count": null,
   "id": "dbbecad0",
   "metadata": {},
   "outputs": [],
   "source": []
  }
 ],
 "metadata": {
  "kernelspec": {
   "display_name": "Python 3 (ipykernel)",
   "language": "python",
   "name": "python3"
  },
  "language_info": {
   "codemirror_mode": {
    "name": "ipython",
    "version": 3
   },
   "file_extension": ".py",
   "mimetype": "text/x-python",
   "name": "python",
   "nbconvert_exporter": "python",
   "pygments_lexer": "ipython3",
   "version": "3.8.9"
  }
 },
 "nbformat": 4,
 "nbformat_minor": 5
}
