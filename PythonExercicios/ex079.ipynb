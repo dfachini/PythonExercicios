{
 "cells": [
  {
   "cell_type": "code",
   "execution_count": 15,
   "id": "17641b1d",
   "metadata": {},
   "outputs": [
    {
     "name": "stdout",
     "output_type": "stream",
     "text": [
      "Digite um numero ou -1 para sair: 1\n",
      "Digite um numero ou -1 para sair: 1\n",
      "Digite um numero ou -1 para sair: 1\n",
      "Digite um numero ou -1 para sair: 1\n",
      "Digite um numero ou -1 para sair: 1\n",
      "Digite um numero ou -1 para sair: 2\n",
      "Digite um numero ou -1 para sair: 2\n",
      "Digite um numero ou -1 para sair: 2\n",
      "Digite um numero ou -1 para sair: 2\n",
      "Digite um numero ou -1 para sair: 2\n",
      "Digite um numero ou -1 para sair: 3\n",
      "Digite um numero ou -1 para sair: 3\n",
      "Digite um numero ou -1 para sair: 3\n",
      "Digite um numero ou -1 para sair: 9\n",
      "Digite um numero ou -1 para sair: 9\n",
      "Digite um numero ou -1 para sair: 3\n",
      "Digite um numero ou -1 para sair: 4\n",
      "Digite um numero ou -1 para sair: 5\n",
      "Digite um numero ou -1 para sair: -1\n",
      "Obrigado!\n",
      "[1, 2, 3, 4, 5, 9]\n"
     ]
    }
   ],
   "source": [
    "# digitar varios valores\n",
    "# cadastre os valores em lista \n",
    "# se o numero já existir ignorar\n",
    "# mostrar os valores em ordem crescente\n",
    "\n",
    "numeros = []\n",
    "condicao = 0\n",
    "while str(-1) not in str(condicao):\n",
    "    condicao = (int(input('Digite um numero ou -1 para sair: ')))\n",
    "    if condicao != -1:\n",
    "        if condicao not in numeros:\n",
    "            numeros.append(condicao)\n",
    "    else:\n",
    "        print('Obrigado!')\n",
    "print(sorted(numeros))"
   ]
  },
  {
   "cell_type": "code",
   "execution_count": 4,
   "id": "e5977a9f",
   "metadata": {},
   "outputs": [
    {
     "name": "stdout",
     "output_type": "stream",
     "text": [
      "Digite um valor: 1\n",
      "Valor adicionado com sucesso...\n",
      "Quer continuar? [S/N] S\n",
      "Digite um valor: 2\n",
      "Valor adicionado com sucesso...\n",
      "Quer continuar? [S/N] S\n",
      "Digite um valor: 9\n",
      "Valor adicionado com sucesso...\n",
      "Quer continuar? [S/N] S\n",
      "Digite um valor: 6\n",
      "Valor adicionado com sucesso...\n",
      "Quer continuar? [S/N] N\n",
      "=-=-=-=-=-=-=-=-=-=-=-=-=-=-=-=-=-=-=-=-=-=-=-=-=-=-=-=-=-=-\n",
      "Você digitou os valores [1, 2, 6, 9]\n"
     ]
    }
   ],
   "source": [
    "## Resolução do professor\n",
    "\n",
    "numeros = list()\n",
    "while True:\n",
    "    n = int(input('Digite um valor: '))\n",
    "    if n not in numeros:\n",
    "        numeros.append(n)\n",
    "        print('Valor adicionado com sucesso...')\n",
    "    else:\n",
    "        print('Valor duplicado! Não vou adicionar...')\n",
    "    r = str(input('Quer continuar? [S/N] '))\n",
    "    if r in 'Nn':\n",
    "        break\n",
    "print('=-'*30)\n",
    "numeros.sort()\n",
    "print(f'Você digitou os valores {numeros}')"
   ]
  }
 ],
 "metadata": {
  "kernelspec": {
   "display_name": "Python 3 (ipykernel)",
   "language": "python",
   "name": "python3"
  },
  "language_info": {
   "codemirror_mode": {
    "name": "ipython",
    "version": 3
   },
   "file_extension": ".py",
   "mimetype": "text/x-python",
   "name": "python",
   "nbconvert_exporter": "python",
   "pygments_lexer": "ipython3",
   "version": "3.8.9"
  }
 },
 "nbformat": 4,
 "nbformat_minor": 5
}
