{
 "cells": [
  {
   "cell_type": "code",
   "execution_count": null,
   "id": "3cbf280c",
   "metadata": {},
   "outputs": [],
   "source": [
    "# Ler nome, média e situação em um dicionário"
   ]
  },
  {
   "cell_type": "code",
   "execution_count": 83,
   "id": "9bbd353a",
   "metadata": {},
   "outputs": [
    {
     "name": "stdout",
     "output_type": "stream",
     "text": [
      "Nome: David\n",
      "Média de David: 8\n"
     ]
    }
   ],
   "source": [
    "aluno = {}\n",
    "situacao = []\n",
    "\n",
    "aluno['nome'] = (str(input('Nome: ')))\n",
    "aluno['media'] = (float(input(f'Média de {aluno[\"nome\"]}: ')))\n",
    "situacao.append(aluno)"
   ]
  },
  {
   "cell_type": "code",
   "execution_count": 84,
   "id": "174846c4",
   "metadata": {},
   "outputs": [
    {
     "name": "stdout",
     "output_type": "stream",
     "text": [
      "Média é igual a 8.0\n"
     ]
    }
   ],
   "source": [
    "# print(aluno['nome'])\n",
    "print(f'Média é igual a {aluno[\"media\"]}')"
   ]
  },
  {
   "cell_type": "code",
   "execution_count": 68,
   "id": "9eb4a87a",
   "metadata": {},
   "outputs": [
    {
     "name": "stdout",
     "output_type": "stream",
     "text": [
      "Situação é igual a Aprovado!\n"
     ]
    }
   ],
   "source": [
    "# print(situacao)\n",
    "for item in situacao:\n",
    "    if item['media'] >= 7:\n",
    "        print('Situação é igual a Aprovado!')\n",
    "    else:\n",
    "        print('Situação é igual a Reprovado!')"
   ]
  },
  {
   "cell_type": "markdown",
   "id": "b47458f9",
   "metadata": {},
   "source": [
    "# Resolução do Professor"
   ]
  },
  {
   "cell_type": "code",
   "execution_count": 81,
   "id": "e9107184",
   "metadata": {},
   "outputs": [
    {
     "name": "stdout",
     "output_type": "stream",
     "text": [
      "Nome: David\n",
      "Média de David: 3\n",
      "-=-=-=-=-=-=-=-=-=-=-=-=-=-=-=-=-=-=-=-=-=-=-=-=-=-=-=-=-=-=\n",
      "  - nome é igual a David\n",
      "  - media é igual a 3.0\n",
      "  - situacao é igual a Reprovado\n"
     ]
    }
   ],
   "source": [
    "aluno = dict()\n",
    "\n",
    "aluno['nome'] = str(input('Nome: '))\n",
    "aluno['media'] = float(input(f'Média de {aluno[\"nome\"]}: '))\n",
    "if aluno['media'] >= 7:\n",
    "    aluno['situacao'] = 'Aprovado'\n",
    "elif 5 <= aluno['media'] < 7:\n",
    "    aluno['situacao'] = 'Recuperação'\n",
    "else:\n",
    "    aluno['situacao'] = 'Reprovado'\n",
    "print('-=' * 30)\n",
    "for k, v in aluno.items():\n",
    "    print(f'  - {k} é igual a {v}')"
   ]
  },
  {
   "cell_type": "code",
   "execution_count": 82,
   "id": "e2f32253",
   "metadata": {},
   "outputs": [
    {
     "name": "stdout",
     "output_type": "stream",
     "text": [
      "{'nome': 'David', 'media': 3.0, 'situacao': 'Reprovado'}\n",
      "dict_items([('nome', 'David'), ('media', 3.0), ('situacao', 'Reprovado')])\n"
     ]
    }
   ],
   "source": [
    "print(aluno)\n",
    "print(aluno.items())"
   ]
  }
 ],
 "metadata": {
  "kernelspec": {
   "display_name": "Python 3 (ipykernel)",
   "language": "python",
   "name": "python3"
  },
  "language_info": {
   "codemirror_mode": {
    "name": "ipython",
    "version": 3
   },
   "file_extension": ".py",
   "mimetype": "text/x-python",
   "name": "python",
   "nbconvert_exporter": "python",
   "pygments_lexer": "ipython3",
   "version": "3.8.9"
  }
 },
 "nbformat": 4,
 "nbformat_minor": 5
}
