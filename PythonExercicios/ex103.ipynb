{
 "cells": [
  {
   "cell_type": "code",
   "execution_count": 23,
   "id": "8613fbe5",
   "metadata": {},
   "outputs": [
    {
     "name": "stdout",
     "output_type": "stream",
     "text": [
      "None\n"
     ]
    }
   ],
   "source": [
    "def ficha(nome=False, gols=False):\n",
    "    if nome == True and gols == True:\n",
    "        return f'{nome} e {gols}'\n",
    "#     if nome == True:\n",
    "#         return f'{nome} e 0'\n",
    "#     if gols == True:\n",
    "#         return f'<desconhecido> e {gols}'\n",
    "#     else:\n",
    "#         return f'<desconhecido> e 0'\n",
    "    \n",
    "# Programa Principal\n",
    "print(ficha(1, 2))"
   ]
  },
  {
   "cell_type": "markdown",
   "id": "4b7d88a7",
   "metadata": {},
   "source": [
    "# Resolução do Professor"
   ]
  },
  {
   "cell_type": "code",
   "execution_count": 28,
   "id": "f0013ec8",
   "metadata": {},
   "outputs": [
    {
     "name": "stdout",
     "output_type": "stream",
     "text": [
      "Nome do Jogador: Joao\n",
      "Número de Gols: \n",
      "O jogador Joao fez 0 gol(s) no campeonato.\n"
     ]
    }
   ],
   "source": [
    "def ficha(jog='<desconhecido>', gol=0):  # Valores opcionais caso não digite nada\n",
    "    print(f'O jogador {jog} fez {gol} gol(s) no campeonato.')\n",
    "\n",
    "\n",
    "# Programa Principal\n",
    "n = str(input(\"Nome do Jogador: \"))\n",
    "g = str(input(\"Número de Gols: \"))      # Passou os gols como string pq o Python da erro de Traceback quando passa int\n",
    "if g.isnumeric():\n",
    "    g = int(g)\n",
    "else:\n",
    "    g = 0 \n",
    "if n.strip() == '':   # Eliminando os espaço da palavra e se for vazio\n",
    "    ficha(gol=g)\n",
    "else:\n",
    "    ficha(n, g)"
   ]
  }
 ],
 "metadata": {
  "kernelspec": {
   "display_name": "Python 3 (ipykernel)",
   "language": "python",
   "name": "python3"
  },
  "language_info": {
   "codemirror_mode": {
    "name": "ipython",
    "version": 3
   },
   "file_extension": ".py",
   "mimetype": "text/x-python",
   "name": "python",
   "nbconvert_exporter": "python",
   "pygments_lexer": "ipython3",
   "version": "3.8.9"
  }
 },
 "nbformat": 4,
 "nbformat_minor": 5
}
