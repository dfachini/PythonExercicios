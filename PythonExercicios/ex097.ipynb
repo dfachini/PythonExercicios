{
 "cells": [
  {
   "cell_type": "code",
   "execution_count": 30,
   "id": "be7e9f85",
   "metadata": {},
   "outputs": [
    {
     "name": "stdout",
     "output_type": "stream",
     "text": [
      "-------------\n",
      "David Fachini\n",
      "-------------\n",
      "--------------------------\n",
      "Curso de Python no Youtube\n",
      "--------------------------\n",
      "---\n",
      "CeV\n",
      "---\n"
     ]
    }
   ],
   "source": [
    "# Funcao Escreva de tamanho adaptavel\n",
    "def escreva(txt):\n",
    "    tamanho = len(txt)\n",
    "    print('-'* tamanho)\n",
    "    print(txt)\n",
    "    print('-'* tamanho)\n",
    "\n",
    "#Programa principal\n",
    "\n",
    "escreva('David Fachini')\n",
    "escreva('Curso de Python no Youtube')\n",
    "escreva('CeV')"
   ]
  },
  {
   "cell_type": "markdown",
   "id": "4b22178f",
   "metadata": {},
   "source": [
    "# Resolução do Professor"
   ]
  },
  {
   "cell_type": "code",
   "execution_count": 6,
   "id": "8988d341",
   "metadata": {},
   "outputs": [
    {
     "name": "stdout",
     "output_type": "stream",
     "text": [
      "~~~~~~~~~~~~~~~~~~~~~\n",
      "  Gustavo Guanabara\n",
      "~~~~~~~~~~~~~~~~~~~~~\n",
      "~~~~~~~~~~~~~~~~~~~~~~~~~~~~~~\n",
      "  Curso de Python no YouTube\n",
      "~~~~~~~~~~~~~~~~~~~~~~~~~~~~~~\n",
      "~~~~~~~\n",
      "  CeV\n",
      "~~~~~~~\n"
     ]
    }
   ],
   "source": [
    "def escreva(msg):\n",
    "    tam = len(msg) + 4    # Adicionou mais 4 para deixar 2 de cada lado quando centralizar a mensagem\n",
    "    print('~' * tam)\n",
    "    print(f'  {msg}')     # 2 espaços para centralizar\n",
    "    print('~' * tam)\n",
    "\n",
    "\n",
    "# Programa Principal\n",
    "escreva('Gustavo Guanabara')\n",
    "escreva('Curso de Python no YouTube')\n",
    "escreva('CeV')"
   ]
  }
 ],
 "metadata": {
  "kernelspec": {
   "display_name": "Python 3 (ipykernel)",
   "language": "python",
   "name": "python3"
  },
  "language_info": {
   "codemirror_mode": {
    "name": "ipython",
    "version": 3
   },
   "file_extension": ".py",
   "mimetype": "text/x-python",
   "name": "python",
   "nbconvert_exporter": "python",
   "pygments_lexer": "ipython3",
   "version": "3.8.9"
  }
 },
 "nbformat": 4,
 "nbformat_minor": 5
}
