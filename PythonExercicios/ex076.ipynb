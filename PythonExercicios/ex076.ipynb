{
 "cells": [
  {
   "cell_type": "code",
   "execution_count": null,
   "id": "00b74c96",
   "metadata": {},
   "outputs": [],
   "source": [
    "# Lista de precos usando tupla\n",
    "\n",
    "listagem = (\"Lápis\", 1.75, \"Borracha\", 2.00, \"Caderno\", 15.90)\n",
    "\n",
    "# Titulo\n",
    "a = '-'*50\n",
    "b = '-'*50\n",
    "titulo = \"LISTAGEM DE PREÇOS\"\n",
    "print(a)\n",
    "print(titulo.center(50))\n",
    "print(b)\n",
    "\n",
    "#Lista de produtos\n",
    "# ponto = '.'*10\n",
    "# print(f'{listagem[lista], ponto}, R$ {listagem[lista]}')\n",
    "# print(f'{}, R$ {listagem[3]})\n",
    "      \n",
    "x = 0\n",
    "y = 0\n",
    "# for i in str(len(listagem)):\n",
    "for i in listagem:\n",
    "    y = x+1\n",
    "    print(f'{listagem[x], ponto} R$ {listagem[y]}')\n",
    "    x = x+1\n",
    "    \n",
    "    \n",
    "    \n",
    "    \n",
    "    \n",
    "#     if (x%2) == 0:\n",
    "#         y = x+1\n",
    "#         if (y%2) == 1:\n",
    "#             ponto = '.'*10\n",
    "#             print(f'{listagem[contador], ponto}, R$ {listagem[y]}')"
   ]
  },
  {
   "cell_type": "code",
   "execution_count": null,
   "id": "77fd3b5d",
   "metadata": {},
   "outputs": [],
   "source": [
    "len(listagem)"
   ]
  },
  {
   "cell_type": "code",
   "execution_count": null,
   "id": "07cebe2c",
   "metadata": {},
   "outputs": [],
   "source": []
  },
  {
   "cell_type": "code",
   "execution_count": 99,
   "id": "49763d51",
   "metadata": {},
   "outputs": [
    {
     "name": "stdout",
     "output_type": "stream",
     "text": [
      "----------------------------------------\n",
      "           LISTAGEM DE PREÇOS           \n",
      "----------------------------------------\n",
      "Lápis.........................R$   1.75\n",
      "Borracha......................R$   2.00\n",
      "Caderno.......................R$  15.90\n",
      "Estojo........................R$  25.00\n",
      "Transferidor..................R$   4.20\n",
      "Compasso......................R$   9.99\n",
      "Mochila.......................R$ 120.32\n",
      "Canetas.......................R$  22.30\n",
      "Livro.........................R$  34.90\n"
     ]
    }
   ],
   "source": [
    "#Resolucao do professor\n",
    "\n",
    "listagem = ('Lápis', 1.75, 'Borracha', 2.00, 'Caderno', 15.90, 'Estojo', 25, 'Transferidor', 4.20, \n",
    "            'Compasso', 9.99, 'Mochila', 120.32, 'Canetas', 22.30, 'Livro', 34.90)\n",
    "print('-' * 40)\n",
    "print(f'{\"LISTAGEM DE PREÇOS\":^40}')   # usando ^ para centralizar \n",
    "print('-' * 40)\n",
    "for pos in range(0, len(listagem)):\n",
    "    if pos % 2 == 0:\n",
    "        print(f'{listagem[pos]:.<30}', end='')  # Pontos alinhados a esquerda\n",
    "    else:\n",
    "        print(f'R${listagem[pos]:>7.2f}')"
   ]
  },
  {
   "cell_type": "code",
   "execution_count": null,
   "id": "03b8ae86",
   "metadata": {},
   "outputs": [],
   "source": []
  }
 ],
 "metadata": {
  "kernelspec": {
   "display_name": "Python 3 (ipykernel)",
   "language": "python",
   "name": "python3"
  },
  "language_info": {
   "codemirror_mode": {
    "name": "ipython",
    "version": 3
   },
   "file_extension": ".py",
   "mimetype": "text/x-python",
   "name": "python",
   "nbconvert_exporter": "python",
   "pygments_lexer": "ipython3",
   "version": "3.8.9"
  }
 },
 "nbformat": 4,
 "nbformat_minor": 5
}
