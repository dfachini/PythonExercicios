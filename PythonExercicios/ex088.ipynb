{
 "cells": [
  {
   "cell_type": "code",
   "execution_count": null,
   "id": "9323c65d",
   "metadata": {},
   "outputs": [],
   "source": [
    "# Mega Sena\n",
    "# Quantos jogos serão gerados\n",
    "# Sortear 6 numeros entre 1 e 60 por jogo\n",
    "# Cadastrar em lista composta"
   ]
  },
  {
   "cell_type": "code",
   "execution_count": 76,
   "id": "d604e8b9",
   "metadata": {},
   "outputs": [
    {
     "name": "stdout",
     "output_type": "stream",
     "text": [
      "$$$$$$$$$$$$$$$$$$$$$$$$$$$$$$\n",
      "        Mega Sena\n",
      "$$$$$$$$$$$$$$$$$$$$$$$$$$$$$$\n",
      "Quantos jogos: 2\n",
      "jogo 1 [60][50][12][21][21][40]\n",
      "-=-=-=-=-=-=-=-=-=-=-=-=-=-=-=-=-=-=-=-=-=-=-=-=-=-=-=-=-=-=\n",
      "jogo 2 [26][26][18][32][31][25]\n",
      "-=-=-=-=-=-=-=-=-=-=-=-=-=-=-=-=-=-=-=-=-=-=-=-=-=-=-=-=-=-=\n"
     ]
    }
   ],
   "source": [
    "from random import randint\n",
    "import time\n",
    "temp = 0\n",
    "print('$'*30)\n",
    "print(f'        Mega Sena')\n",
    "print('$'*30)\n",
    "lista = [[0],[0],[0],[0],[0],[0]]\n",
    "resp = int(input('Quantos jogos: '))\n",
    "for cont in range(0,resp): # quantidade de jogos\n",
    "#     n = randint(1,60)      # 60 numeros aleatorios\n",
    "    print(f'jogo {cont+1} ',end='')\n",
    "    for l in range(0,5+1):   # 0,5\n",
    "        n = randint(1,60)      # 60 numeros aleatorios\n",
    "        if len(temp) == 0:\n",
    "            temp = n\n",
    "        else:\n",
    "            if temp == n:\n",
    "                return \n",
    "        lista[l] = n       # lista[]\n",
    "        print(f'{[lista[l]]}',end='')\n",
    "    print()\n",
    "    time.sleep(1)\n",
    "    print('-='*30)\n",
    "# print(n)\n",
    "# print(lista)"
   ]
  },
  {
   "cell_type": "markdown",
   "id": "36d8f5b9",
   "metadata": {},
   "source": [
    "# Resolução do Professor"
   ]
  },
  {
   "cell_type": "code",
   "execution_count": 106,
   "id": "e1990cd8",
   "metadata": {},
   "outputs": [
    {
     "name": "stdout",
     "output_type": "stream",
     "text": [
      "------------------------------\n",
      "     JOGA NA MEGA SENHA    \n",
      "------------------------------\n",
      "Quantos jogos você quer que eu sorteie ? 5\n",
      "-=-=-=  SORTEANDO 5 JOGOS  -=-=-=\n",
      "Jogo 1: [19, 26, 27, 30, 31, 34]\n",
      "Jogo 2: [10, 12, 16, 26, 28, 56]\n",
      "Jogo 3: [2, 21, 36, 39, 45, 52]\n",
      "Jogo 4: [18, 30, 45, 46, 53, 56]\n",
      "Jogo 5: [3, 5, 9, 18, 32, 47]\n",
      "-=-=-=-=-=  < BOA SORTE! > -=-=-=-=-=\n"
     ]
    }
   ],
   "source": [
    "from random import randint\n",
    "from time import sleep\n",
    "\n",
    "lista = list()\n",
    "jogos = list()     # lista de várias listas\n",
    "print('-'*30)\n",
    "print('     JOGA NA MEGA SENHA    ')\n",
    "print('-'*30)\n",
    "quant = int(input('Quantos jogos você quer que eu sorteie ? '))\n",
    "tot = 1 \n",
    "while tot <= quant:\n",
    "    cont = 0\n",
    "    while True:\n",
    "        num = randint(1,60)\n",
    "        if num not in lista:\n",
    "            lista.append(num)\n",
    "            cont += 1\n",
    "        if cont >= 6:\n",
    "            break\n",
    "    lista.sort()\n",
    "    jogos.append(lista[:])\n",
    "    lista.clear()\n",
    "    tot += 1\n",
    "print('-='*3, f' SORTEANDO {quant} JOGOS ', '-='*3)\n",
    "for i, l in enumerate(jogos):\n",
    "    print(f'Jogo {i+1}: {l}')\n",
    "    sleep(1)\n",
    "print('-='*5, f' < BOA SORTE! >', '-='*5)"
   ]
  }
 ],
 "metadata": {
  "kernelspec": {
   "display_name": "Python 3 (ipykernel)",
   "language": "python",
   "name": "python3"
  },
  "language_info": {
   "codemirror_mode": {
    "name": "ipython",
    "version": 3
   },
   "file_extension": ".py",
   "mimetype": "text/x-python",
   "name": "python",
   "nbconvert_exporter": "python",
   "pygments_lexer": "ipython3",
   "version": "3.8.9"
  }
 },
 "nbformat": 4,
 "nbformat_minor": 5
}
